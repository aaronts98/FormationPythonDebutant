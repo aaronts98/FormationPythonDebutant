{
 "cells": [
  {
   "cell_type": "code",
   "execution_count": 15,
   "metadata": {},
   "outputs": [
    {
     "name": "stdout",
     "output_type": "stream",
     "text": [
      "Prix marché : 0\n"
     ]
    }
   ],
   "source": [
    "class Voiture(object):\n",
    "    \n",
    "    \n",
    "    def __init__(self, v_maxi, annee_achat, prix_achat, indice_vetuste=1):\n",
    "        self._v_maxi = v_maxi\n",
    "        self._annee_achat = annee_achat\n",
    "        self._prix_achat = prix_achat\n",
    "        self._indice_vetuste = indice_vetuste\n",
    "        self._prix_marche = 0\n",
    "        \n",
    "    def __str__(self):\n",
    "        return \"Prix marché : \" +  str(self._prix_marche)\n",
    "        \n",
    "    def __add__(self, v2):\n",
    "        return self._prix_marche + v2.prix_marche\n",
    "    \n",
    "    @property\n",
    "    def v_maxi(self):\n",
    "        return self._v_maxi\n",
    "\n",
    "    @v_maxi.setter\n",
    "    def v_maxi(self, value):\n",
    "        self._v_maxi = value\n",
    "\n",
    "    @property\n",
    "    def annee_achat(self):\n",
    "        return self._annee_achat\n",
    "\n",
    "    @annee_achat.setter\n",
    "    def annee_achat(self, value):\n",
    "        self._annee_achat = value\n",
    "\n",
    "    @property\n",
    "    def prix_achat(self):\n",
    "        return self._prix_achat\n",
    "\n",
    "    @prix_achat.setter\n",
    "    def prix_achat(self, value):\n",
    "        self._prix_achat = value\n",
    "    \n",
    "    @property\n",
    "    def prix_marche(self):\n",
    "        return self._prix_marche\n",
    "\n",
    "    @prix_marche.setter\n",
    "    def prix_marche(self, value):\n",
    "        self._prix_marche = value\n",
    "        \n",
    "\n",
    "if __name__ == '__main__':\n",
    "    v = Voiture(250, 2000, 15000)\n",
    "    print(v)"
   ]
  }
 ],
 "metadata": {
  "kernelspec": {
   "display_name": "Python 3",
   "language": "python",
   "name": "python3"
  },
  "language_info": {
   "codemirror_mode": {
    "name": "ipython",
    "version": 3
   },
   "file_extension": ".py",
   "mimetype": "text/x-python",
   "name": "python",
   "nbconvert_exporter": "python",
   "pygments_lexer": "ipython3",
   "version": "3.6.8"
  }
 },
 "nbformat": 4,
 "nbformat_minor": 2
}
