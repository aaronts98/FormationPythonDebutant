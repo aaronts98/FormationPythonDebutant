{
 "cells": [
  {
   "cell_type": "markdown",
   "metadata": {},
   "source": [
    "# Introduction au langage Python\n",
    "\n",
    "## Historique et caractéristiques\n",
    "\n",
    "- Dès la fin des années 1980 (Par Guido Van Rossum) -> user Friendly\n",
    "- Première version publique 1991\n",
    "- Fin 90 - 2000, financement publique\n",
    "- Branche 2.X énorme succès en terme de contributions internes et tierces (fin prévu en 2015)\n",
    "- Branche 3.X capitaliser, homogénéiser, stabiliser\n",
    "- apparition de lib tierces en nombre important\n",
    "- numpy\n",
    "- matplot\n",
    "- scipy\n",
    "- scikit-learn\n",
    "- Django\n",
    "- tous les nouveaux framework on maintenat un bridge ou une version python\n",
    "- tout objet\n",
    "- non typé\n",
    "\n",
    "## Avantages, inconvénients\n",
    "\n",
    "- interopérable\n",
    "- grammaire lisible\n",
    "- bibliothèque standard importante (fichier, csv, réseau, système…)\n",
    "- outil de gestion des lib\n",
    "- développement rapide\n",
    "\n",
    "\n",
    "\n",
    "- non-compilé (lent nécessaire d'avoir des accès à Cython ou à des bridges pour augmenter le \"speed-up\", ou une compilation JIT(Just in time))\n",
    "- communauté rigide\n",
    "\n",
    "# Quelle version installer? Quel IDE?\n",
    "\n",
    "\n",
    "## Version de python\n",
    "\n",
    "la dernière version stable de Python 3 dispo sur https://www.python.org/\n",
    "\n",
    "Obtenir des librairies tierces\n",
    "\n",
    "```\n",
    "pip install matplotlib\n",
    "\n",
    "```\n",
    "\n",
    "**Jamais de SUDO**\n",
    "\n",
    "ou\n",
    "\n",
    "la dernière version stable dispo sur anaconda : https://www.anaconda.com/distribution/\n",
    "\n",
    "Anaconda distribue une version de Python et un ensemble de bibliothèques tierce en garantissant de miniser des problème de dépendance + un ensemble d'outil (ipython + jupyter notebook + environnement)\n",
    "\n",
    "```\n",
    "conda install matplotlib\n",
    "```\n",
    "\n",
    "**Jamais de sudo**\n",
    "\n",
    "pip peut être utiliser si la librairie n'est pas dispo sur les repo d'Anaconda\n",
    "\n",
    "## IDE\n",
    "\n",
    "- spyder (le plus léger)\n",
    "- vs studio\n",
    "- pyCharm\n",
    "- emacs / vim\n",
    "\n",
    "nécessaire de maitriser la console Python ou iPython\n",
    "\n",
    "## Règles de bonnes pratiques et convention de nommage\n",
    "\n",
    "PEP 8 : https://www.python.org/dev/peps/pep-0008/\n",
    "\n",
    "\n",
    "voir le google guide pour Python : https://google.github.io/styleguide/pyguide.html\n",
    "\n",
    "\n",
    "- module_name\n",
    "- package_name\n",
    "- ClassName\n",
    "- method_name\n",
    "- ExceptionName\n",
    "- function_name\n",
    "- GLOBAL_CONSTANT_NAME\n",
    "- global_var_name\n",
    "- instance_var_name\n",
    "- function_parameter_name\n",
    "- local_var_name\n",
    "\n",
    "éléments internes, on rajoute un \"_\"\n",
    "\n",
    "\n",
    "PEP 257 pour la documentation : https://www.python.org/dev/peps/pep-0257/\n",
    "*NB : ne remplace pas les règles de documentation interne*\n",
    "\n",
    "# TP \n",
    "\n",
    "- installation d'une version de python sur vos machine\n",
    "- installation d'un IDE au choix\n",
    "- installer la librairie matplotlib\n",
    "- Écrire le Hello Word en python et tester\n",
    "\n",
    "\n"
   ]
  },
  {
   "cell_type": "markdown",
   "metadata": {},
   "source": [
    "# Chaine de caractères"
   ]
  },
  {
   "cell_type": "code",
   "execution_count": 6,
   "metadata": {},
   "outputs": [
    {
     "name": "stdout",
     "output_type": "stream",
     "text": [
      "Chaine N1\n",
      "Chaine N2\n"
     ]
    }
   ],
   "source": [
    "chaine1 = \"Chaine N1\"\n",
    "chaine2 = 'Chaine N2'\n",
    "\n",
    "print(chaine1)\n",
    "print(chaine2)"
   ]
  },
  {
   "cell_type": "markdown",
   "metadata": {},
   "source": [
    "**2 solutions mais soyez cohérents**"
   ]
  },
  {
   "cell_type": "markdown",
   "metadata": {},
   "source": [
    "## Concaténation et formatage des chaines de caractères"
   ]
  },
  {
   "cell_type": "code",
   "execution_count": 9,
   "metadata": {},
   "outputs": [
    {
     "name": "stdout",
     "output_type": "stream",
     "text": [
      "Chaine N1 Chaine N2\n"
     ]
    }
   ],
   "source": [
    "chaine_tot = chaine1 + \" \" + chaine2\n",
    "\n",
    "print(chaine_tot)"
   ]
  },
  {
   "cell_type": "markdown",
   "metadata": {},
   "source": [
    "A la sauce C/C++"
   ]
  },
  {
   "cell_type": "code",
   "execution_count": 11,
   "metadata": {},
   "outputs": [
    {
     "name": "stdout",
     "output_type": "stream",
     "text": [
      "Chaine N1 Chaine N2\n"
     ]
    }
   ],
   "source": [
    "chaine_tot_c = \"%s %s\" %(chaine1, chaine2)\n",
    "\n",
    "print(chaine_tot_c)"
   ]
  },
  {
   "cell_type": "markdown",
   "metadata": {},
   "source": [
    "Avec la fonction **format**"
   ]
  },
  {
   "cell_type": "code",
   "execution_count": 12,
   "metadata": {},
   "outputs": [
    {
     "name": "stdout",
     "output_type": "stream",
     "text": [
      "Chaine N1 Chaine N2\n"
     ]
    }
   ],
   "source": [
    "chaine_tot_format = \"{} {}\".format(chaine1, chaine2)\n",
    "\n",
    "print(chaine_tot_format)"
   ]
  },
  {
   "cell_type": "markdown",
   "metadata": {},
   "source": [
    "## Longueur, case"
   ]
  },
  {
   "cell_type": "code",
   "execution_count": 13,
   "metadata": {},
   "outputs": [
    {
     "name": "stdout",
     "output_type": "stream",
     "text": [
      "Taille de la chaine chaine_tot_format 19\n"
     ]
    }
   ],
   "source": [
    "longueur = len(chaine_tot_format)\n",
    "\n",
    "print(\"Taille de la chaine chaine_tot_format\", longueur)"
   ]
  },
  {
   "cell_type": "code",
   "execution_count": 15,
   "metadata": {},
   "outputs": [
    {
     "name": "stdout",
     "output_type": "stream",
     "text": [
      "CHAINE N1 CHAINE N2\n"
     ]
    }
   ],
   "source": [
    "chaine_maj = chaine_tot_format.upper()\n",
    "\n",
    "print(chaine_maj)"
   ]
  },
  {
   "cell_type": "code",
   "execution_count": 16,
   "metadata": {},
   "outputs": [
    {
     "name": "stdout",
     "output_type": "stream",
     "text": [
      "chaine n1 chaine n2\n"
     ]
    }
   ],
   "source": [
    "chaine_min = chaine_maj.lower()\n",
    "\n",
    "print(chaine_min)"
   ]
  },
  {
   "cell_type": "markdown",
   "metadata": {},
   "source": [
    "## Appartenance, occurence, Remplacement"
   ]
  },
  {
   "cell_type": "code",
   "execution_count": 18,
   "metadata": {},
   "outputs": [
    {
     "name": "stdout",
     "output_type": "stream",
     "text": [
      "False\n"
     ]
    }
   ],
   "source": [
    "b_app = \"chaine\" in chaine_tot_format\n",
    "\n",
    "print(b_app)"
   ]
  },
  {
   "cell_type": "code",
   "execution_count": 20,
   "metadata": {},
   "outputs": [
    {
     "name": "stdout",
     "output_type": "stream",
     "text": [
      "True\n"
     ]
    }
   ],
   "source": [
    "b_app = \"Chaine\" in chaine_tot_format\n",
    "\n",
    "print(b_app)"
   ]
  },
  {
   "cell_type": "code",
   "execution_count": 21,
   "metadata": {},
   "outputs": [
    {
     "name": "stdout",
     "output_type": "stream",
     "text": [
      "2\n"
     ]
    }
   ],
   "source": [
    "nb_c = chaine_tot_format.count(\"C\")\n",
    "\n",
    "print(nb_c)"
   ]
  },
  {
   "cell_type": "code",
   "execution_count": 23,
   "metadata": {},
   "outputs": [
    {
     "name": "stdout",
     "output_type": "stream",
     "text": [
      "0\n"
     ]
    }
   ],
   "source": [
    "pos_c = chaine_tot_format.index(\"C\")\n",
    "print(pos_c)"
   ]
  },
  {
   "cell_type": "code",
   "execution_count": 27,
   "metadata": {},
   "outputs": [
    {
     "name": "stdout",
     "output_type": "stream",
     "text": [
      "10\n"
     ]
    }
   ],
   "source": [
    "pos_c_2 = chaine_tot_format.index(\"C\", pos_c+1)\n",
    "print(pos_c_2)"
   ]
  },
  {
   "cell_type": "markdown",
   "metadata": {},
   "source": [
    "# Les entiers"
   ]
  },
  {
   "cell_type": "code",
   "execution_count": 6,
   "metadata": {},
   "outputs": [
    {
     "data": {
      "text/plain": [
       "int"
      ]
     },
     "execution_count": 6,
     "metadata": {},
     "output_type": "execute_result"
    }
   ],
   "source": [
    "i = 1 \n",
    "type(i)"
   ]
  },
  {
   "cell_type": "code",
   "execution_count": 7,
   "metadata": {},
   "outputs": [
    {
     "data": {
      "text/plain": [
       "int"
      ]
     },
     "execution_count": 7,
     "metadata": {},
     "output_type": "execute_result"
    }
   ],
   "source": [
    "# ou \n",
    "\n",
    "ii = int(1)\n",
    "type(ii)"
   ]
  },
  {
   "cell_type": "markdown",
   "metadata": {},
   "source": [
    "Ensemble des attribut de l'objet **int** cf console"
   ]
  },
  {
   "cell_type": "raw",
   "metadata": {},
   "source": [
    "dir(int)"
   ]
  },
  {
   "cell_type": "markdown",
   "metadata": {},
   "source": [
    "# Les réels"
   ]
  },
  {
   "cell_type": "code",
   "execution_count": 3,
   "metadata": {},
   "outputs": [
    {
     "data": {
      "text/plain": [
       "float"
      ]
     },
     "execution_count": 3,
     "metadata": {},
     "output_type": "execute_result"
    }
   ],
   "source": [
    "j = 1.5\n",
    "type(j)"
   ]
  },
  {
   "cell_type": "code",
   "execution_count": 8,
   "metadata": {},
   "outputs": [
    {
     "data": {
      "text/plain": [
       "float"
      ]
     },
     "execution_count": 8,
     "metadata": {},
     "output_type": "execute_result"
    }
   ],
   "source": [
    "# ou\n",
    "\n",
    "jj = float(2.5)\n",
    "type(jj)"
   ]
  },
  {
   "cell_type": "markdown",
   "metadata": {},
   "source": [
    "# Complexe"
   ]
  },
  {
   "cell_type": "code",
   "execution_count": 10,
   "metadata": {},
   "outputs": [
    {
     "data": {
      "text/plain": [
       "complex"
      ]
     },
     "execution_count": 10,
     "metadata": {},
     "output_type": "execute_result"
    }
   ],
   "source": [
    "k = 1 + 3j\n",
    "type(k)"
   ]
  },
  {
   "cell_type": "code",
   "execution_count": 15,
   "metadata": {},
   "outputs": [
    {
     "data": {
      "text/plain": [
       "complex"
      ]
     },
     "execution_count": 15,
     "metadata": {},
     "output_type": "execute_result"
    }
   ],
   "source": [
    "# ou \n",
    "\n",
    "k = complex(3, 2.5)\n",
    "type(k)"
   ]
  },
  {
   "cell_type": "code",
   "execution_count": 14,
   "metadata": {},
   "outputs": [
    {
     "data": {
      "text/plain": [
       "(3+2.5j)"
      ]
     },
     "execution_count": 14,
     "metadata": {},
     "output_type": "execute_result"
    }
   ],
   "source": [
    "k"
   ]
  },
  {
   "cell_type": "markdown",
   "metadata": {},
   "source": [
    "# Opérateur \n",
    "\n",
    "- +\n",
    "- -\n",
    "- *\n",
    "- /\n",
    "- // (division entière)\n",
    "- %  (modulo)\n",
    "- **\n",
    "\n",
    "fonction mathématique avancées (p 317)"
   ]
  },
  {
   "cell_type": "markdown",
   "metadata": {},
   "source": [
    "# Types évoluées\n",
    "\n",
    "## Listes\n",
    "\n",
    "### Définition \n",
    "\n",
    "Une liste (list) en référence aux listes chainées, ne sont ni plus ni moins d’un tableau d’objet. Comme tout tableau, la liste est indexée.\n",
    "\n",
    "L’index de début de la liste est 0.\n",
    "\n",
    "À la différence des tableaux en C++, les listes en python n’ont pas une taille fixe. Il est donc possible à tout moment de rajouter ou retirer des éléments dans la liste.\n",
    "\n",
    "### Création d'une liste\n",
    "\n"
   ]
  },
  {
   "cell_type": "code",
   "execution_count": 16,
   "metadata": {},
   "outputs": [
    {
     "name": "stdout",
     "output_type": "stream",
     "text": [
      "[12, 15, 19, 0]\n"
     ]
    }
   ],
   "source": [
    "ma_liste = [12, 15, 19, 0]\n",
    "print(maliste)"
   ]
  },
  {
   "cell_type": "markdown",
   "metadata": {},
   "source": [
    "### Liste vide\n"
   ]
  },
  {
   "cell_type": "code",
   "execution_count": null,
   "metadata": {},
   "outputs": [],
   "source": [
    "liste_vide = []"
   ]
  },
  {
   "cell_type": "markdown",
   "metadata": {},
   "source": [
    "### Liste hétérogène"
   ]
  },
  {
   "cell_type": "code",
   "execution_count": 30,
   "metadata": {},
   "outputs": [
    {
     "data": {
      "text/plain": [
       "[1, 2, 2.0, (1+2j), 'texte']"
      ]
     },
     "execution_count": 30,
     "metadata": {},
     "output_type": "execute_result"
    }
   ],
   "source": [
    "liste_h = [1, 2, 2.0, 1+2j, \"texte\"]\n",
    "liste_h\n"
   ]
  },
  {
   "cell_type": "markdown",
   "metadata": {},
   "source": [
    "### accès aux données "
   ]
  },
  {
   "cell_type": "code",
   "execution_count": 20,
   "metadata": {},
   "outputs": [
    {
     "data": {
      "text/plain": [
       "1"
      ]
     },
     "execution_count": 20,
     "metadata": {},
     "output_type": "execute_result"
    }
   ],
   "source": [
    "prem_val = liste_h[0]\n",
    "prem_val"
   ]
  },
  {
   "cell_type": "code",
   "execution_count": 22,
   "metadata": {},
   "outputs": [
    {
     "data": {
      "text/plain": [
       "[2, 2.0, (1+2j), 'texte']"
      ]
     },
     "execution_count": 22,
     "metadata": {},
     "output_type": "execute_result"
    }
   ],
   "source": [
    "liste_c = liste_h[1:]\n",
    "liste_c"
   ]
  },
  {
   "cell_type": "code",
   "execution_count": 24,
   "metadata": {},
   "outputs": [
    {
     "data": {
      "text/plain": [
       "[2, 2.0]"
      ]
     },
     "execution_count": 24,
     "metadata": {},
     "output_type": "execute_result"
    }
   ],
   "source": [
    "liste_c = liste_h[1:3]\n",
    "liste_c"
   ]
  },
  {
   "cell_type": "code",
   "execution_count": 25,
   "metadata": {},
   "outputs": [
    {
     "data": {
      "text/plain": [
       "[1, 2.0, (1+2j), 'texte']"
      ]
     },
     "execution_count": 25,
     "metadata": {},
     "output_type": "execute_result"
    }
   ],
   "source": [
    "# supression de valeurs \n",
    "\n",
    "del liste_h[1]\n",
    "liste_h"
   ]
  },
  {
   "cell_type": "code",
   "execution_count": 27,
   "metadata": {},
   "outputs": [
    {
     "data": {
      "text/plain": [
       "4"
      ]
     },
     "execution_count": 27,
     "metadata": {},
     "output_type": "execute_result"
    }
   ],
   "source": [
    "# longueur de la chaine\n",
    "\n",
    "taille_l = len(liste_h)\n",
    "taille_l"
   ]
  },
  {
   "cell_type": "markdown",
   "metadata": {},
   "source": [
    "### les méthodes assocées\n",
    "\n",
    "Les plus courrantes sont :\n",
    "    - remove()\n",
    "    - pop()\n",
    "    - append()\n",
    "    - insert()\n",
    "    - extend()\n",
    "    - sort()"
   ]
  },
  {
   "cell_type": "code",
   "execution_count": 40,
   "metadata": {},
   "outputs": [
    {
     "data": {
      "text/plain": [
       "[2, 2.0, (1+2j), 'texte']"
      ]
     },
     "execution_count": 40,
     "metadata": {},
     "output_type": "execute_result"
    }
   ],
   "source": [
    "# remove\n",
    "\n",
    "liste_h = [1, 2, 2.0, 1+2j, \"texte\"]\n",
    "liste_h.remove(1)\n",
    "liste_h"
   ]
  },
  {
   "cell_type": "code",
   "execution_count": 42,
   "metadata": {},
   "outputs": [
    {
     "data": {
      "text/plain": [
       "[1, 2, 2.0, (1+2j)]"
      ]
     },
     "execution_count": 42,
     "metadata": {},
     "output_type": "execute_result"
    }
   ],
   "source": [
    "# pop\n",
    "\n",
    "liste_h = [1, 2, 2.0, 1+2j, \"texte\"]\n",
    "liste_h.pop()\n",
    "liste_h"
   ]
  },
  {
   "cell_type": "code",
   "execution_count": 43,
   "metadata": {},
   "outputs": [
    {
     "data": {
      "text/plain": [
       "[1, 2, 2.0, (1+2j), 'texte', [1, 2, 3]]"
      ]
     },
     "execution_count": 43,
     "metadata": {},
     "output_type": "execute_result"
    }
   ],
   "source": [
    "# append \n",
    "\n",
    "liste_h = [1, 2, 2.0, 1+2j, \"texte\"]\n",
    "liste_h.append([1, 2, 3])\n",
    "liste_h"
   ]
  },
  {
   "cell_type": "code",
   "execution_count": 45,
   "metadata": {},
   "outputs": [
    {
     "data": {
      "text/plain": [
       "[1, 2, [4, 5], 2.0, (1+2j), 'texte']"
      ]
     },
     "execution_count": 45,
     "metadata": {},
     "output_type": "execute_result"
    }
   ],
   "source": [
    "# insert \n",
    "\n",
    "liste_h = [1, 2, 2.0, 1+2j, \"texte\"]\n",
    "liste_h.insert(2, [4, 5])\n",
    "liste_h"
   ]
  },
  {
   "cell_type": "code",
   "execution_count": 50,
   "metadata": {},
   "outputs": [
    {
     "data": {
      "text/plain": [
       "[1, 2, 2.0, (1+2j), 'texte', 4, 5]"
      ]
     },
     "execution_count": 50,
     "metadata": {},
     "output_type": "execute_result"
    }
   ],
   "source": [
    "# extend (ajoute en fait de liste)\n",
    "\n",
    "liste_h = [1, 2, 2.0, 1+2j, \"texte\"]\n",
    "liste_h.extend([4, 5])\n",
    "liste_h"
   ]
  },
  {
   "cell_type": "code",
   "execution_count": 47,
   "metadata": {},
   "outputs": [
    {
     "data": {
      "text/plain": [
       "[2, 7, 10, 16, 18, 24]"
      ]
     },
     "execution_count": 47,
     "metadata": {},
     "output_type": "execute_result"
    }
   ],
   "source": [
    "# sort \n",
    "\n",
    "liste_h = [10, 2, 7, 24, 16, 18]\n",
    "liste_h.sort()\n",
    "liste_h"
   ]
  },
  {
   "cell_type": "markdown",
   "metadata": {},
   "source": [
    "## Tupple\n",
    "\n",
    "### Définition \n",
    "\n",
    "Les tuples ont un comporrtement similaire aux listes à la différences près qu’ils sont immuable. Par conséquent, il n’est pas possible de modifier le contenu d’un tuple une fois créer. Les fonctions de modification de contenu que nous avons exposé juste au-dessus ne sont pas utilisables. En cas d’appel d’une de ces fonctions une exception est levée et apportée à la connaissance du développeur.\n",
    "L’opérateur de création d’un tuple n’est pas [] mais ()."
   ]
  },
  {
   "cell_type": "code",
   "execution_count": 51,
   "metadata": {},
   "outputs": [
    {
     "name": "stdout",
     "output_type": "stream",
     "text": [
      "['Bonjour', 'Décembdre', 'Lundi', 'Wastringue']\n"
     ]
    }
   ],
   "source": [
    "t_str = [\"Décembre\", \"Bonjour\", \"Wastringue\", \"Lundi\"]\n",
    "t_str.sort()\n",
    "print(t_str)"
   ]
  },
  {
   "cell_type": "code",
   "execution_count": 52,
   "metadata": {},
   "outputs": [
    {
     "name": "stdout",
     "output_type": "stream",
     "text": [
      "Décembdre\n"
     ]
    }
   ],
   "source": [
    "print(t_str[1])"
   ]
  }
 ],
 "metadata": {
  "kernelspec": {
   "display_name": "Python 3",
   "language": "python",
   "name": "python3"
  },
  "language_info": {
   "codemirror_mode": {
    "name": "ipython",
    "version": 3
   },
   "file_extension": ".py",
   "mimetype": "text/x-python",
   "name": "python",
   "nbconvert_exporter": "python",
   "pygments_lexer": "ipython3",
   "version": "3.6.8"
  }
 },
 "nbformat": 4,
 "nbformat_minor": 2
}
