{
 "cells": [
  {
   "cell_type": "markdown",
   "metadata": {},
   "source": [
    "# Introduction au langage Python\n",
    "\n",
    "## Historique et caractéristiques\n",
    "\n",
    "- Dès la fin des années 1980 (Par Guido Van Rossum) -> user Friendly\n",
    "- Première version publique 1991\n",
    "- Fin 90 - 2000, financement publique\n",
    "- Branche 2.X énorme succès en terme de contributions internes et tierces (fin prévu en 2015)\n",
    "- Branche 3.X capitaliser, homogénéiser, stabiliser\n",
    "- apparition de lib tierces en nombre important\n",
    "- numpy\n",
    "- matplot\n",
    "- scipy\n",
    "- scikit-learn\n",
    "- Django\n",
    "- tous les nouveaux framework on maintenat un bridge ou une version python\n",
    "- tout objet\n",
    "- non typé\n",
    "\n",
    "## Avantages, inconvénients\n",
    "\n",
    "- interopérable\n",
    "- grammaire lisible\n",
    "- bibliothèque standard importante (fichier, csv, réseau, système…)\n",
    "- outil de gestion des lib\n",
    "- développement rapide\n",
    "\n",
    "\n",
    "\n",
    "- non-compilé (lent nécessaire d'avoir des accès à Cython ou à des bridges pour augmenter le \"speed-up\", ou une compilation JIT(Just in time))\n",
    "- communauté rigide\n",
    "\n",
    "# Quelle version installer? Quel IDE?\n",
    "\n",
    "\n",
    "## Version de python\n",
    "\n",
    "la dernière version stable de Python 3 dispo sur https://www.python.org/\n",
    "\n",
    "Obtenir des librairies tierces\n",
    "\n",
    "```\n",
    "pip install matplotlib\n",
    "\n",
    "```\n",
    "\n",
    "**Jamais de SUDO**\n",
    "\n",
    "ou\n",
    "\n",
    "la dernière version stable dispo sur anaconda : https://www.anaconda.com/distribution/\n",
    "\n",
    "Anaconda distribue une version de Python et un ensemble de bibliothèques tierce en garantissant de miniser des problème de dépendance + un ensemble d'outil (ipython + jupyter notebook + environnement)\n",
    "\n",
    "```\n",
    "conda install matplotlib\n",
    "```\n",
    "\n",
    "**Jamais de sudo**\n",
    "\n",
    "pip peut être utiliser si la librairie n'est pas dispo sur les repo d'Anaconda\n",
    "\n",
    "## IDE\n",
    "\n",
    "- spyder (le plus léger)\n",
    "- vs studio\n",
    "- pyCharm\n",
    "- emacs / vim\n",
    "\n",
    "nécessaire de maitriser la console Python ou iPython\n",
    "\n",
    "## Règles de bonnes pratiques et convention de nommage\n",
    "\n",
    "PEP 8 : https://www.python.org/dev/peps/pep-0008/\n",
    "\n",
    "\n",
    "voir le google guide pour Python : https://google.github.io/styleguide/pyguide.html\n",
    "\n",
    "\n",
    "- module_name\n",
    "- package_name\n",
    "- ClassName\n",
    "- method_name\n",
    "- ExceptionName\n",
    "- function_name\n",
    "- GLOBAL_CONSTANT_NAME\n",
    "- global_var_name\n",
    "- instance_var_name\n",
    "- function_parameter_name\n",
    "- local_var_name\n",
    "\n",
    "éléments internes, on rajoute un \"_\"\n",
    "\n",
    "\n",
    "PEP 257 pour la documentation : https://www.python.org/dev/peps/pep-0257/\n",
    "*NB : ne remplace pas les règles de documentation interne*\n",
    "\n",
    "# TP \n",
    "\n",
    "- installation d'une version de python sur vos machine\n",
    "- installation d'un IDE au choix\n",
    "- installer la librairie matplotlib\n",
    "- Écrire le Hello Word en python et tester\n",
    "\n",
    "\n"
   ]
  },
  {
   "cell_type": "markdown",
   "metadata": {},
   "source": [
    "# Chaine de caractères"
   ]
  },
  {
   "cell_type": "code",
   "execution_count": 14,
   "metadata": {},
   "outputs": [
    {
     "name": "stdout",
     "output_type": "stream",
     "text": [
      "Chaine N1\n",
      "Chaine N2\n",
      "1\n"
     ]
    }
   ],
   "source": [
    "chaine1 = \"Chaine N1\"\n",
    "chaine2 = 'Chaine N2'\n",
    "chaine3 = str('Chaine N3')\n",
    "chaine3 = 1\n",
    "\n",
    "\n",
    "print(chaine1)\n",
    "print(chaine2)\n",
    "print(chaine3)"
   ]
  },
  {
   "cell_type": "markdown",
   "metadata": {},
   "source": [
    "**2 solutions mais soyez cohérents**"
   ]
  },
  {
   "cell_type": "markdown",
   "metadata": {},
   "source": [
    "## Concaténation et formatage des chaines de caractères"
   ]
  },
  {
   "cell_type": "code",
   "execution_count": 6,
   "metadata": {},
   "outputs": [
    {
     "name": "stdout",
     "output_type": "stream",
     "text": [
      "Chaine N1 Chaine N2\n"
     ]
    }
   ],
   "source": [
    "chaine_tot = chaine1 + \" \" + chaine2\n",
    "\n",
    "print(chaine_tot)"
   ]
  },
  {
   "cell_type": "markdown",
   "metadata": {},
   "source": [
    "A la sauce C/C++"
   ]
  },
  {
   "cell_type": "code",
   "execution_count": 8,
   "metadata": {},
   "outputs": [
    {
     "name": "stdout",
     "output_type": "stream",
     "text": [
      "Toto :  Chaine N2\n"
     ]
    }
   ],
   "source": [
    "chaine_tot_c = \"%s %s\" %(\"Toto : \", chaine2)\n",
    "\n",
    "print(chaine_tot_c)"
   ]
  },
  {
   "cell_type": "markdown",
   "metadata": {},
   "source": [
    "Avec la fonction **format**"
   ]
  },
  {
   "cell_type": "code",
   "execution_count": 16,
   "metadata": {},
   "outputs": [
    {
     "name": "stdout",
     "output_type": "stream",
     "text": [
      "Chaine N1 Chaine N2\n"
     ]
    }
   ],
   "source": [
    "chaine_tot_format = \"{} {}\".format(chaine1, chaine2)\n",
    "\n",
    "print(chaine_tot_format)"
   ]
  },
  {
   "cell_type": "code",
   "execution_count": 17,
   "metadata": {},
   "outputs": [
    {
     "data": {
      "text/plain": [
       "'Chaine N11'"
      ]
     },
     "execution_count": 17,
     "metadata": {},
     "output_type": "execute_result"
    }
   ],
   "source": [
    "a = 1\n",
    "chaine_int_string = chaine1 + str(a) \n",
    "chaine_int_string"
   ]
  },
  {
   "cell_type": "markdown",
   "metadata": {},
   "source": [
    "## Longueur, case"
   ]
  },
  {
   "cell_type": "code",
   "execution_count": 18,
   "metadata": {},
   "outputs": [
    {
     "name": "stdout",
     "output_type": "stream",
     "text": [
      "Taille de la chaine chaine_tot_format 19\n"
     ]
    }
   ],
   "source": [
    "longueur = len(chaine_tot_format)\n",
    "\n",
    "print(\"Taille de la chaine chaine_tot_format\", longueur)"
   ]
  },
  {
   "cell_type": "code",
   "execution_count": 15,
   "metadata": {},
   "outputs": [
    {
     "name": "stdout",
     "output_type": "stream",
     "text": [
      "CHAINE N1 CHAINE N2\n"
     ]
    }
   ],
   "source": [
    "chaine_maj = chaine_tot_format.upper()\n",
    "\n",
    "print(chaine_maj)"
   ]
  },
  {
   "cell_type": "code",
   "execution_count": 16,
   "metadata": {},
   "outputs": [
    {
     "name": "stdout",
     "output_type": "stream",
     "text": [
      "chaine n1 chaine n2\n"
     ]
    }
   ],
   "source": [
    "chaine_min = chaine_maj.lower()\n",
    "\n",
    "print(chaine_min)"
   ]
  },
  {
   "cell_type": "markdown",
   "metadata": {},
   "source": [
    "## Appartenance, occurence, Remplacement"
   ]
  },
  {
   "cell_type": "code",
   "execution_count": 26,
   "metadata": {},
   "outputs": [
    {
     "name": "stdout",
     "output_type": "stream",
     "text": [
      "Chaine N1 Chaine N2\n",
      "<class 'bool'>\n",
      "False\n"
     ]
    }
   ],
   "source": [
    "print(chaine_tot_format)\n",
    "b_app = \"chaine\" in chaine_tot_format\n",
    "\n",
    "\n",
    "print(type(b_app))\n",
    "print(b_app)"
   ]
  },
  {
   "cell_type": "code",
   "execution_count": 20,
   "metadata": {},
   "outputs": [
    {
     "name": "stdout",
     "output_type": "stream",
     "text": [
      "True\n"
     ]
    }
   ],
   "source": [
    "b_app = \"Chaine\" in chaine_tot_format\n",
    "\n",
    "print(b_app)"
   ]
  },
  {
   "cell_type": "code",
   "execution_count": 27,
   "metadata": {},
   "outputs": [
    {
     "name": "stdout",
     "output_type": "stream",
     "text": [
      "2\n"
     ]
    }
   ],
   "source": [
    "nb_c = chaine_tot_format.count(\"C\")\n",
    "\n",
    "print(nb_c)"
   ]
  },
  {
   "cell_type": "code",
   "execution_count": 23,
   "metadata": {},
   "outputs": [
    {
     "name": "stdout",
     "output_type": "stream",
     "text": [
      "0\n"
     ]
    }
   ],
   "source": [
    "pos_c = chaine_tot_format.index(\"C\")\n",
    "print(pos_c)"
   ]
  },
  {
   "cell_type": "code",
   "execution_count": 27,
   "metadata": {},
   "outputs": [
    {
     "name": "stdout",
     "output_type": "stream",
     "text": [
      "10\n"
     ]
    }
   ],
   "source": [
    "pos_c_2 = chaine_tot_format.index(\"C\", pos_c+1)\n",
    "print(pos_c_2)"
   ]
  },
  {
   "cell_type": "markdown",
   "metadata": {},
   "source": [
    "# Les entiers"
   ]
  },
  {
   "cell_type": "code",
   "execution_count": 6,
   "metadata": {},
   "outputs": [
    {
     "data": {
      "text/plain": [
       "int"
      ]
     },
     "execution_count": 6,
     "metadata": {},
     "output_type": "execute_result"
    }
   ],
   "source": [
    "i = 1 \n",
    "type(i)"
   ]
  },
  {
   "cell_type": "code",
   "execution_count": 7,
   "metadata": {},
   "outputs": [
    {
     "data": {
      "text/plain": [
       "int"
      ]
     },
     "execution_count": 7,
     "metadata": {},
     "output_type": "execute_result"
    }
   ],
   "source": [
    "# ou \n",
    "\n",
    "ii = int(1)\n",
    "type(ii)"
   ]
  },
  {
   "cell_type": "markdown",
   "metadata": {},
   "source": [
    "Ensemble des attribut de l'objet **int** cf console"
   ]
  },
  {
   "cell_type": "raw",
   "metadata": {},
   "source": [
    "dir(int)"
   ]
  },
  {
   "cell_type": "markdown",
   "metadata": {},
   "source": [
    "# Les réels"
   ]
  },
  {
   "cell_type": "code",
   "execution_count": 3,
   "metadata": {},
   "outputs": [
    {
     "data": {
      "text/plain": [
       "float"
      ]
     },
     "execution_count": 3,
     "metadata": {},
     "output_type": "execute_result"
    }
   ],
   "source": [
    "j = 1.5\n",
    "type(j)"
   ]
  },
  {
   "cell_type": "code",
   "execution_count": 8,
   "metadata": {},
   "outputs": [
    {
     "data": {
      "text/plain": [
       "float"
      ]
     },
     "execution_count": 8,
     "metadata": {},
     "output_type": "execute_result"
    }
   ],
   "source": [
    "# ou\n",
    "\n",
    "jj = float(2.5)\n",
    "type(jj)"
   ]
  },
  {
   "cell_type": "markdown",
   "metadata": {},
   "source": [
    "# Complexe"
   ]
  },
  {
   "cell_type": "code",
   "execution_count": 10,
   "metadata": {},
   "outputs": [
    {
     "data": {
      "text/plain": [
       "complex"
      ]
     },
     "execution_count": 10,
     "metadata": {},
     "output_type": "execute_result"
    }
   ],
   "source": [
    "k = 1 + 3j\n",
    "type(k)"
   ]
  },
  {
   "cell_type": "code",
   "execution_count": 15,
   "metadata": {},
   "outputs": [
    {
     "data": {
      "text/plain": [
       "complex"
      ]
     },
     "execution_count": 15,
     "metadata": {},
     "output_type": "execute_result"
    }
   ],
   "source": [
    "# ou \n",
    "\n",
    "k = complex(3, 2.5)\n",
    "type(k)"
   ]
  },
  {
   "cell_type": "code",
   "execution_count": 14,
   "metadata": {},
   "outputs": [
    {
     "data": {
      "text/plain": [
       "(3+2.5j)"
      ]
     },
     "execution_count": 14,
     "metadata": {},
     "output_type": "execute_result"
    }
   ],
   "source": [
    "k"
   ]
  },
  {
   "cell_type": "markdown",
   "metadata": {},
   "source": [
    "# Opérateur \n",
    "\n",
    "- +\n",
    "- -\n",
    "- *\n",
    "- /\n",
    "- // (division entière)\n",
    "- %  (modulo)\n",
    "- **\n",
    "\n",
    "fonction mathématique avancées (p 317)"
   ]
  },
  {
   "cell_type": "markdown",
   "metadata": {},
   "source": [
    "# Types évoluées\n",
    "\n",
    "## Listes\n",
    "\n",
    "### Définition \n",
    "\n",
    "Une liste (list) en référence aux listes chainées, ne sont ni plus ni moins d’un tableau d’objet. Comme tout tableau, la liste est indexée.\n",
    "\n",
    "L’index de début de la liste est 0.\n",
    "\n",
    "À la différence des tableaux en C++, les listes en python n’ont pas une taille fixe. Il est donc possible à tout moment de rajouter ou retirer des éléments dans la liste.\n",
    "\n",
    "### Création d'une liste\n",
    "\n"
   ]
  },
  {
   "cell_type": "code",
   "execution_count": 32,
   "metadata": {},
   "outputs": [
    {
     "name": "stdout",
     "output_type": "stream",
     "text": [
      "[12, 15, 19, 0, 'string', [1, 2, 6]]\n"
     ]
    }
   ],
   "source": [
    "l = [1, 2, 6]\n",
    "ma_liste = [12, 15, 19, 0, \"string\", l]\n",
    "print(ma_liste)"
   ]
  },
  {
   "cell_type": "markdown",
   "metadata": {},
   "source": [
    "### Liste vide\n"
   ]
  },
  {
   "cell_type": "code",
   "execution_count": 33,
   "metadata": {},
   "outputs": [
    {
     "name": "stdout",
     "output_type": "stream",
     "text": [
      "['CED', 'LDV', 'VDL']\n"
     ]
    }
   ],
   "source": [
    "liste_vide = []\n",
    "\n",
    "l_str = [\"ced\", \"ldv\", \"vdl\"]\n",
    "\n",
    "for l in l_str:\n",
    "    str_temp = l.upper()\n",
    "    liste_vide.append(str_temp)\n",
    "    \n",
    "print(liste_vide)"
   ]
  },
  {
   "cell_type": "markdown",
   "metadata": {},
   "source": [
    "### Liste hétérogène"
   ]
  },
  {
   "cell_type": "code",
   "execution_count": 36,
   "metadata": {},
   "outputs": [
    {
     "data": {
      "text/plain": [
       "[1, 2, 2.0, (1+2j), 'texte']"
      ]
     },
     "execution_count": 36,
     "metadata": {},
     "output_type": "execute_result"
    }
   ],
   "source": [
    "liste_h = [1, 2, 2.0, 1+2j, \"texte\"]\n",
    "liste_h\n"
   ]
  },
  {
   "cell_type": "markdown",
   "metadata": {},
   "source": [
    "### accès aux données "
   ]
  },
  {
   "cell_type": "code",
   "execution_count": 37,
   "metadata": {},
   "outputs": [
    {
     "data": {
      "text/plain": [
       "'texte'"
      ]
     },
     "execution_count": 37,
     "metadata": {},
     "output_type": "execute_result"
    }
   ],
   "source": [
    "prem_val = liste_h[len(liste_h)-1]\n",
    "prem_val"
   ]
  },
  {
   "cell_type": "code",
   "execution_count": 38,
   "metadata": {},
   "outputs": [
    {
     "data": {
      "text/plain": [
       "[2, 2.0, (1+2j), 'texte']"
      ]
     },
     "execution_count": 38,
     "metadata": {},
     "output_type": "execute_result"
    }
   ],
   "source": [
    "liste_c = liste_h[1:]\n",
    "liste_c"
   ]
  },
  {
   "cell_type": "code",
   "execution_count": 24,
   "metadata": {},
   "outputs": [
    {
     "data": {
      "text/plain": [
       "[2, 2.0]"
      ]
     },
     "execution_count": 24,
     "metadata": {},
     "output_type": "execute_result"
    }
   ],
   "source": [
    "liste_c = liste_h[1:3]\n",
    "liste_c"
   ]
  },
  {
   "cell_type": "code",
   "execution_count": 39,
   "metadata": {},
   "outputs": [
    {
     "data": {
      "text/plain": [
       "[1, 2, 2.0]"
      ]
     },
     "execution_count": 39,
     "metadata": {},
     "output_type": "execute_result"
    }
   ],
   "source": [
    "liste_c = liste_h[:3]\n",
    "liste_c"
   ]
  },
  {
   "cell_type": "code",
   "execution_count": 42,
   "metadata": {},
   "outputs": [
    {
     "ename": "IndexError",
     "evalue": "list assignment index out of range",
     "output_type": "error",
     "traceback": [
      "\u001b[0;31m---------------------------------------------------------------------------\u001b[0m",
      "\u001b[0;31mIndexError\u001b[0m                                Traceback (most recent call last)",
      "\u001b[0;32m<ipython-input-42-0cd8e6309970>\u001b[0m in \u001b[0;36m<module>\u001b[0;34m\u001b[0m\n\u001b[1;32m      1\u001b[0m \u001b[0;31m# supression de valeurs\u001b[0m\u001b[0;34m\u001b[0m\u001b[0;34m\u001b[0m\u001b[0;34m\u001b[0m\u001b[0m\n\u001b[1;32m      2\u001b[0m \u001b[0;34m\u001b[0m\u001b[0m\n\u001b[0;32m----> 3\u001b[0;31m \u001b[0;32mdel\u001b[0m \u001b[0mliste_h\u001b[0m\u001b[0;34m[\u001b[0m\u001b[0;36m1\u001b[0m\u001b[0;34m]\u001b[0m\u001b[0;34m\u001b[0m\u001b[0;34m\u001b[0m\u001b[0m\n\u001b[0m\u001b[1;32m      4\u001b[0m \u001b[0mliste_h\u001b[0m\u001b[0;34m\u001b[0m\u001b[0;34m\u001b[0m\u001b[0m\n",
      "\u001b[0;31mIndexError\u001b[0m: list assignment index out of range"
     ]
    }
   ],
   "source": [
    "# supression de valeurs \n",
    "\n",
    "del liste_h[1]\n",
    "liste_h"
   ]
  },
  {
   "cell_type": "code",
   "execution_count": 44,
   "metadata": {},
   "outputs": [
    {
     "data": {
      "text/plain": [
       "3"
      ]
     },
     "execution_count": 44,
     "metadata": {},
     "output_type": "execute_result"
    }
   ],
   "source": [
    "# longueur de la chaine\n",
    "\n",
    "taille_l = len(liste_h)\n",
    "taille_l\n",
    "\n",
    "\n",
    "\n",
    "len(l_str[1])\n",
    "\n"
   ]
  },
  {
   "cell_type": "code",
   "execution_count": 52,
   "metadata": {},
   "outputs": [
    {
     "name": "stdout",
     "output_type": "stream",
     "text": [
      "['ced', 'ldv', 'vdl']\n",
      "['ced', 'ldv', 'vdl', 'tscs']\n",
      "['ced', 'ldv', 'vdl']\n"
     ]
    }
   ],
   "source": [
    "l_str = [\"ced\", \"ldv\", \"vdl\"]\n",
    "l1 = l_str[:]\n",
    "\n",
    "print(l1)\n",
    "\n",
    "l_str.append('tscs')\n",
    "\n",
    "print(l_str)\n",
    "\n",
    "print(l1)\n",
    "\n"
   ]
  },
  {
   "cell_type": "markdown",
   "metadata": {},
   "source": [
    "### les méthodes assocées\n",
    "\n",
    "Les plus courrantes sont :\n",
    "    - remove()\n",
    "    - pop()\n",
    "    - append()\n",
    "    - insert()\n",
    "    - extend()\n",
    "    - sort()"
   ]
  },
  {
   "cell_type": "code",
   "execution_count": 40,
   "metadata": {},
   "outputs": [
    {
     "data": {
      "text/plain": [
       "[2, 2.0, (1+2j), 'texte']"
      ]
     },
     "execution_count": 40,
     "metadata": {},
     "output_type": "execute_result"
    }
   ],
   "source": [
    "# remove\n",
    "\n",
    "liste_h = [1, 2, 2.0, 1+2j, \"texte\"]\n",
    "liste_h.remove(1)\n",
    "liste_h"
   ]
  },
  {
   "cell_type": "code",
   "execution_count": 42,
   "metadata": {},
   "outputs": [
    {
     "data": {
      "text/plain": [
       "[1, 2, 2.0, (1+2j)]"
      ]
     },
     "execution_count": 42,
     "metadata": {},
     "output_type": "execute_result"
    }
   ],
   "source": [
    "# pop\n",
    "\n",
    "liste_h = [1, 2, 2.0, 1+2j, \"texte\"]\n",
    "liste_h.pop()\n",
    "liste_h"
   ]
  },
  {
   "cell_type": "code",
   "execution_count": 43,
   "metadata": {},
   "outputs": [
    {
     "data": {
      "text/plain": [
       "[1, 2, 2.0, (1+2j), 'texte', [1, 2, 3]]"
      ]
     },
     "execution_count": 43,
     "metadata": {},
     "output_type": "execute_result"
    }
   ],
   "source": [
    "# append \n",
    "\n",
    "liste_h = [1, 2, 2.0, 1+2j, \"texte\"]\n",
    "liste_h.append([1, 2, 3])\n",
    "liste_h"
   ]
  },
  {
   "cell_type": "code",
   "execution_count": 45,
   "metadata": {},
   "outputs": [
    {
     "data": {
      "text/plain": [
       "[1, 2, [4, 5], 2.0, (1+2j), 'texte']"
      ]
     },
     "execution_count": 45,
     "metadata": {},
     "output_type": "execute_result"
    }
   ],
   "source": [
    "# insert \n",
    "\n",
    "liste_h = [1, 2, 2.0, 1+2j, \"texte\"]\n",
    "liste_h.insert(2, [4, 5])\n",
    "liste_h"
   ]
  },
  {
   "cell_type": "code",
   "execution_count": 53,
   "metadata": {},
   "outputs": [
    {
     "data": {
      "text/plain": [
       "[1, 2, 2.0, (1+2j), 'texte', 4, 5]"
      ]
     },
     "execution_count": 53,
     "metadata": {},
     "output_type": "execute_result"
    }
   ],
   "source": [
    "# extend (ajoute en fin de liste)\n",
    "\n",
    "liste_h = [1, 2, 2.0, 1+2j, \"texte\"]\n",
    "liste_h.extend([4, 5])\n",
    "liste_h"
   ]
  },
  {
   "cell_type": "code",
   "execution_count": 54,
   "metadata": {},
   "outputs": [
    {
     "ename": "TypeError",
     "evalue": "'<' not supported between instances of 'str' and 'int'",
     "output_type": "error",
     "traceback": [
      "\u001b[0;31m---------------------------------------------------------------------------\u001b[0m",
      "\u001b[0;31mTypeError\u001b[0m                                 Traceback (most recent call last)",
      "\u001b[0;32m<ipython-input-54-c1bc1e33d3e0>\u001b[0m in \u001b[0;36m<module>\u001b[0;34m\u001b[0m\n\u001b[1;32m      2\u001b[0m \u001b[0;34m\u001b[0m\u001b[0m\n\u001b[1;32m      3\u001b[0m \u001b[0mliste_h\u001b[0m \u001b[0;34m=\u001b[0m \u001b[0;34m[\u001b[0m\u001b[0;36m10\u001b[0m\u001b[0;34m,\u001b[0m \u001b[0;36m2\u001b[0m\u001b[0;34m,\u001b[0m \u001b[0;36m7\u001b[0m\u001b[0;34m,\u001b[0m \u001b[0;36m24\u001b[0m\u001b[0;34m,\u001b[0m \u001b[0;36m16\u001b[0m\u001b[0;34m,\u001b[0m \u001b[0;34m\"chaine\"\u001b[0m\u001b[0;34m]\u001b[0m\u001b[0;34m\u001b[0m\u001b[0;34m\u001b[0m\u001b[0m\n\u001b[0;32m----> 4\u001b[0;31m \u001b[0mliste_h\u001b[0m\u001b[0;34m.\u001b[0m\u001b[0msort\u001b[0m\u001b[0;34m(\u001b[0m\u001b[0;34m)\u001b[0m\u001b[0;34m\u001b[0m\u001b[0;34m\u001b[0m\u001b[0m\n\u001b[0m\u001b[1;32m      5\u001b[0m \u001b[0mliste_h\u001b[0m\u001b[0;34m\u001b[0m\u001b[0;34m\u001b[0m\u001b[0m\n",
      "\u001b[0;31mTypeError\u001b[0m: '<' not supported between instances of 'str' and 'int'"
     ]
    }
   ],
   "source": [
    "# sort \n",
    "\n",
    "liste_h = [10, 2, 7, 24, 16, \"chaine\"]\n",
    "liste_h.sort()\n",
    "liste_h"
   ]
  },
  {
   "cell_type": "markdown",
   "metadata": {},
   "source": [
    "## Tupple\n",
    "\n",
    "### Définition \n",
    "\n",
    "Les tuples ont un comporrtement similaire aux listes à la différences près qu’ils sont immuable. Par conséquent, il n’est pas possible de modifier le contenu d’un tuple une fois créer. Les fonctions de modification de contenu que nous avons exposé juste au-dessus ne sont pas utilisables. En cas d’appel d’une de ces fonctions une exception est levée et apportée à la connaissance du développeur.\n",
    "L’opérateur de création d’un tuple n’est pas [] mais ()."
   ]
  },
  {
   "cell_type": "code",
   "execution_count": 60,
   "metadata": {},
   "outputs": [
    {
     "name": "stdout",
     "output_type": "stream",
     "text": [
      "['Bonjour', 'Décembre', 'Lundi', 'Wastringue']\n"
     ]
    }
   ],
   "source": [
    "t_str = (\"Décembre\", \"Bonjour\", \"Wastringue\", \"Lundi\")\n",
    "l_str = list(t_str)\n",
    "\n",
    "type(l_str)\n",
    "\n",
    "l_str.sort()\n",
    "print(l_str)"
   ]
  },
  {
   "cell_type": "code",
   "execution_count": 61,
   "metadata": {},
   "outputs": [
    {
     "name": "stdout",
     "output_type": "stream",
     "text": [
      "Bonjour\n"
     ]
    }
   ],
   "source": [
    "print(t_str[1])"
   ]
  },
  {
   "cell_type": "markdown",
   "metadata": {},
   "source": [
    "## Dictionnaire\n",
    "### Définition\n",
    "\n",
    "Un dictionnaire est une struture de donnée qui permet de stocker n’importe quel type de données et qui contrairement aux listes ne sont pas indicé à l’aide d’un index mais à l’aide d’une clé. Cette clé d’accès peut être un entier ou une une chaine de caractère. Pour crer une un dictionnaire on utilise l’opérateur {}.\n",
    "\n"
   ]
  },
  {
   "cell_type": "code",
   "execution_count": 63,
   "metadata": {},
   "outputs": [
    {
     "name": "stdout",
     "output_type": "stream",
     "text": [
      "{'Nièvre': 58, 'Saone et Loire': 71, 'Cote d or': 21, 'Yonne': 89}\n"
     ]
    }
   ],
   "source": [
    "d ={'Nièvre' : 58, 'Saone et Loire' : 71, 'Cote d or' : 21, 'Yonne'  : 89}\n",
    "print(d)"
   ]
  },
  {
   "cell_type": "code",
   "execution_count": 64,
   "metadata": {},
   "outputs": [
    {
     "name": "stdout",
     "output_type": "stream",
     "text": [
      "21\n"
     ]
    }
   ],
   "source": [
    "# L’accès au données du dictionnaire se réalise à l’aide de l’opérateur [] mais contrairement à une liste, \n",
    "# on ne  précise pas l’indice mais l’index.\n",
    "\n",
    "print(d['Cote d or'])\n"
   ]
  },
  {
   "cell_type": "code",
   "execution_count": 65,
   "metadata": {},
   "outputs": [
    {
     "name": "stdout",
     "output_type": "stream",
     "text": [
      "12\n"
     ]
    },
    {
     "data": {
      "text/plain": [
       "dict_keys(['Nièvre', 'Saone et Loire', 'Cote d or', 'Yonne'])"
      ]
     },
     "execution_count": 65,
     "metadata": {},
     "output_type": "execute_result"
    }
   ],
   "source": [
    "# Il est possible de mettre à jour un élément de la liste à de sa clé.\n",
    "\n",
    "d['Cote d or'] = 12\n",
    "print(d['Cote d or'])\n",
    "\n",
    "\n",
    "# Le dictionnaire n’est donc pas, comme la liste,  immuable. Le contenu peut donc être modifié après création.\n",
    "# Les fonctions membres values() et keys() permettent de lister les clés et les valeurs contenus dans le dictionnnaire.\n",
    "\n",
    "d.keys()"
   ]
  },
  {
   "cell_type": "code",
   "execution_count": 57,
   "metadata": {},
   "outputs": [
    {
     "data": {
      "text/plain": [
       "dict_values([58, 71, 12, 89])"
      ]
     },
     "execution_count": 57,
     "metadata": {},
     "output_type": "execute_result"
    }
   ],
   "source": [
    "d.values()"
   ]
  },
  {
   "cell_type": "markdown",
   "metadata": {},
   "source": [
    "# Instructions conditionnelles, boucles\n",
    "\n",
    "# if/elif/else\n",
    "\n"
   ]
  },
  {
   "cell_type": "code",
   "execution_count": 69,
   "metadata": {},
   "outputs": [
    {
     "name": "stdout",
     "output_type": "stream",
     "text": [
      "a is True\n"
     ]
    }
   ],
   "source": [
    "a = False\n",
    "\n",
    "if(a is not Tru):\n",
    "    print(\"a is True\")\n",
    "    \n",
    "# attention à la tabulation"
   ]
  },
  {
   "cell_type": "code",
   "execution_count": 71,
   "metadata": {},
   "outputs": [
    {
     "name": "stdout",
     "output_type": "stream",
     "text": [
      "False\n"
     ]
    }
   ],
   "source": [
    "a = bool()\n",
    "print(a)"
   ]
  },
  {
   "cell_type": "code",
   "execution_count": null,
   "metadata": {},
   "outputs": [],
   "source": [
    "a = False\n",
    "\n",
    "if(a is True):\n",
    "    print(\"a is True\")\n",
    "else:\n",
    "    print(\"a is False\")"
   ]
  },
  {
   "cell_type": "code",
   "execution_count": null,
   "metadata": {},
   "outputs": [],
   "source": [
    "a = 2\n",
    "\n",
    "if(a == 1):\n",
    "    print(\"a = 1\")\n",
    "elif(a == 2):\n",
    "    print(\"a = 2\")\n",
    "else:\n",
    "    print(\"a ne vaut ni 1 ni 2\")"
   ]
  },
  {
   "cell_type": "markdown",
   "metadata": {},
   "source": [
    "## while"
   ]
  },
  {
   "cell_type": "code",
   "execution_count": 58,
   "metadata": {},
   "outputs": [
    {
     "name": "stdout",
     "output_type": "stream",
     "text": [
      "Valeur du compteur :  0\n",
      "Valeur du compteur :  1\n",
      "Valeur du compteur :  2\n",
      "Valeur du compteur :  3\n",
      "Valeur du compteur :  4\n",
      "Valeur du compteur :  5\n",
      "Valeur du compteur :  6\n",
      "Valeur du compteur :  7\n",
      "Valeur du compteur :  8\n",
      "Valeur du compteur :  9\n"
     ]
    }
   ],
   "source": [
    "cpt = 0\n",
    "\n",
    "while cpt < 10:\n",
    "    print(\"Valeur du compteur : \", cpt)\n",
    "    cpt += 1"
   ]
  },
  {
   "cell_type": "markdown",
   "metadata": {},
   "source": [
    "## for"
   ]
  },
  {
   "cell_type": "code",
   "execution_count": 59,
   "metadata": {},
   "outputs": [
    {
     "name": "stdout",
     "output_type": "stream",
     "text": [
      "1\n",
      "2\n",
      "3\n",
      "4\n",
      "5\n",
      "12\n",
      "Valeur 12 détectée dans la séquence\n"
     ]
    }
   ],
   "source": [
    "l = [1, 2, 3, 4, 5, 12]\n",
    "\n",
    "for elt in l:\n",
    "    print(elt)\n",
    "\n",
    "    if elt==12:\n",
    "        print(\"Valeur 12 détectée dans la séquence\")"
   ]
  },
  {
   "cell_type": "code",
   "execution_count": 60,
   "metadata": {},
   "outputs": [
    {
     "name": "stdout",
     "output_type": "stream",
     "text": [
      "Valeur indice :  0\n",
      "Valeur indice :  1\n",
      "Valeur indice :  2\n",
      "Valeur indice :  3\n",
      "Valeur indice :  4\n"
     ]
    }
   ],
   "source": [
    "l =  [1, 2, 3, 4, 5]\n",
    "l_res = []\n",
    "\n",
    "for ind in range(len(l)):\n",
    "    \n",
    "    print(\"Valeur indice : \", ind)\n",
    "    l_res.append(ind)"
   ]
  },
  {
   "cell_type": "code",
   "execution_count": 61,
   "metadata": {},
   "outputs": [
    {
     "name": "stdout",
     "output_type": "stream",
     "text": [
      "Valeur indice :  0  Valeur élément :  1\n",
      "Valeur indice :  1  Valeur élément :  2\n",
      "Valeur indice :  2  Valeur élément :  3\n",
      "Valeur indice :  3  Valeur élément :  4\n",
      "Valeur indice :  4  Valeur élément :  5\n"
     ]
    }
   ],
   "source": [
    "l =  [1, 2, 3, 4, 5]\n",
    "\n",
    "for ind, elt in enumerate(l):\n",
    "    print(\"Valeur indice : \", ind, \" Valeur élément : \", elt)"
   ]
  },
  {
   "cell_type": "code",
   "execution_count": 75,
   "metadata": {},
   "outputs": [
    {
     "name": "stdout",
     "output_type": "stream",
     "text": [
      "Valeur élément liste :  1\n"
     ]
    }
   ],
   "source": [
    "l = [1, 2, 3, 4, 5]\n",
    "\n",
    "for elt in l:\n",
    "    # break\n",
    "    if elt == 3:\n",
    "        break\n",
    "    if elt == 2:\n",
    "        continue\n",
    "    print(\"Valeur élément liste : \", elt)"
   ]
  },
  {
   "cell_type": "markdown",
   "metadata": {},
   "source": [
    "# Fonction \n",
    "\n",
    "## Définition\n",
    "Une fonction permet de regrouper un ensemble d’instruction afin de les exécuter au moment de l’appel de la fonction à l’endroit voulu dans votre code source.\n",
    "Plus généralement, les fonctions sont généralement créées pour réaliser une fonctionnalité particulière, par exemple :\n",
    "\n",
    "    • tri d’une liste\n",
    "    • recherche d’un maximum\n",
    "    • extraction d’une sous-chaine au sein d’une chaine de caractères\n",
    "\n",
    "La réalisation la fonctionnalité contenue au sein d’une fonction peut nécessiter d’avoir des informations a priori pour réaliser la tâche. Ces informations sont données à l’aide des paramètres de la fonction.\n",
    "De la même manière, une fonction peut calculer un résultat à la suite de son exécution et le développeur peut vouloir récupérer ces résultats. Ceci se réalise à l’aide des valeurs retournées par la fonction.\n",
    "\n",
    "```\n",
    "def ma_fonction(<param1>, <param2>, …, <param n>) :\n",
    "\t<instruction 1>\n",
    "\t<instruction 2>\n",
    "\t…\n",
    "\t<instruction n>\n",
    "return <val1>, <val2>, … , <val n>\n",
    "```\n",
    "        "
   ]
  },
  {
   "cell_type": "code",
   "execution_count": 67,
   "metadata": {},
   "outputs": [
    {
     "name": "stdout",
     "output_type": "stream",
     "text": [
      "Résultat de la somme :  30\n"
     ]
    }
   ],
   "source": [
    "def somme(a, b):\n",
    "    c = a + b\n",
    "    return c\n",
    "\n",
    "val_a = 12\n",
    "val_b = 18\n",
    "\n",
    "val_sommme = somme(val_a, val_b)\n",
    "print(\"Résultat de la somme : \", val_sommme)"
   ]
  },
  {
   "cell_type": "code",
   "execution_count": 66,
   "metadata": {},
   "outputs": [
    {
     "name": "stdout",
     "output_type": "stream",
     "text": [
      "Valeur produit :  10  Valeur somme :  7\n"
     ]
    }
   ],
   "source": [
    "# retour multiple\n",
    "\n",
    "def somme_produit(a, b):\n",
    "    p = a * b\n",
    "    s = a + b\n",
    "\n",
    "    return p, s\n",
    "\n",
    "\n",
    "val_a = 2\n",
    "val_b = 5\n",
    "produit, somme = somme_produit(val_a, val_b)\n",
    "print(\"Valeur produit : \", produit, \" Valeur somme : \", somme)"
   ]
  },
  {
   "cell_type": "code",
   "execution_count": 68,
   "metadata": {},
   "outputs": [
    {
     "name": "stdout",
     "output_type": "stream",
     "text": [
      " Valeur somme :  7\n"
     ]
    }
   ],
   "source": [
    "def somme_produit(a, b):\n",
    "    p = a * b\n",
    "    s = a + b\n",
    "\n",
    "    return p, s\n",
    "\n",
    "\n",
    "val_a = 2\n",
    "val_b = 5\n",
    "_, somme = somme_produit(val_a, val_b)\n",
    "print(\" Valeur somme : \", somme)"
   ]
  },
  {
   "cell_type": "code",
   "execution_count": 77,
   "metadata": {},
   "outputs": [
    {
     "name": "stdout",
     "output_type": "stream",
     "text": [
      "Valeur produit :  280  Valeur somme :  21\n",
      "Valeur produit :  84  Valeur somme :  14\n"
     ]
    }
   ],
   "source": [
    "def somme(a, b=4, c=10):\n",
    "    produit = a * b * c\n",
    "    somme = a + b + c\n",
    "\n",
    "    return produit, somme\n",
    "\n",
    "\n",
    "val_a = 7\n",
    "p, s = somme(val_a)\n",
    "print(\"Valeur produit : \", p, \" Valeur somme : \", s)\n",
    "\n",
    "p, s = somme(val_a, c=3)\n",
    "print(\"Valeur produit : \", p, \" Valeur somme : \", s)"
   ]
  },
  {
   "cell_type": "markdown",
   "metadata": {},
   "source": [
    "# Modules\n",
    "\n",
    "En fait, la création de modules a déjà été abordée implicitement dans la section sur les fonctions. En fait, un module est simplement un regroupement de fonction ou de classe dans un fichier.\n",
    "L’utilisation des éléments formant le module à l’intérieur d’une autre source, se font à l’aide des instructions *from* et *import*.\n"
   ]
  },
  {
   "cell_type": "markdown",
   "metadata": {},
   "source": [
    "# TP\n",
    "\n",
    "- Récupérer le fichier de données suivant : https://gist.github.com/michhar/2dfd2de0d4f8727f873422c5d959fff5\n",
    "- installer pandas\n",
    "- installer matplot lib\n",
    "- créer les fonctions suivantes :\n",
    "    - calcul de l'age moyenne\n",
    "    - histogramme des ages\n",
    "    - fonction de sur-échantillonnage de l'histogramme\n",
    "    - proposer une fonction qui estime la corrélation\n",
    "    - visualisation de de l'histogramme\n",
    "- respect PE8\n",
    "- écrire la documentation nécessaire compatible PEP 257\n",
    "    \n",
    " **NB : regrouper vos fonction au sein de module**"
   ]
  },
  {
   "cell_type": "code",
   "execution_count": null,
   "metadata": {},
   "outputs": [],
   "source": []
  }
 ],
 "metadata": {
  "kernelspec": {
   "display_name": "Python 3",
   "language": "python",
   "name": "python3"
  },
  "language_info": {
   "codemirror_mode": {
    "name": "ipython",
    "version": 3
   },
   "file_extension": ".py",
   "mimetype": "text/x-python",
   "name": "python",
   "nbconvert_exporter": "python",
   "pygments_lexer": "ipython3",
   "version": "3.6.8"
  }
 },
 "nbformat": 4,
 "nbformat_minor": 2
}
