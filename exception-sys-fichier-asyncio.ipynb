{
 "cells": [
  {
   "cell_type": "markdown",
   "metadata": {},
   "source": [
    "# Gestion des erreurs\n",
    "\n",
    "## À quoi cela sert-il ?\n",
    "\n",
    "Nous avons déjà été confrontés à des erreurs dans nos programmes.\n",
    "Quand Python rencontre une erreur dans votre code, il lève une exception. "
   ]
  },
  {
   "cell_type": "code",
   "execution_count": 1,
   "metadata": {},
   "outputs": [
    {
     "ename": "ZeroDivisionError",
     "evalue": "division by zero",
     "output_type": "error",
     "traceback": [
      "\u001b[0;31m---------------------------------------------------------------------------\u001b[0m",
      "\u001b[0;31mZeroDivisionError\u001b[0m                         Traceback (most recent call last)",
      "\u001b[0;32m<ipython-input-1-4fc972fa5cd0>\u001b[0m in \u001b[0;36m<module>\u001b[0;34m\u001b[0m\n\u001b[0;32m----> 1\u001b[0;31m \u001b[0md\u001b[0m \u001b[0;34m=\u001b[0m \u001b[0;36m1\u001b[0m\u001b[0;34m/\u001b[0m\u001b[0;36m0\u001b[0m\u001b[0;34m\u001b[0m\u001b[0;34m\u001b[0m\u001b[0m\n\u001b[0m",
      "\u001b[0;31mZeroDivisionError\u001b[0m: division by zero"
     ]
    }
   ],
   "source": [
    "d = 1/0"
   ]
  },
  {
   "cell_type": "markdown",
   "metadata": {},
   "source": [
    "AttarNous y trouvons **deux informations** :\n",
    "\n",
    "- ZeroDivisionError: le type de l'exception ;\n",
    "\n",
    "- division by zero: le message qu'envoie Python pour vous aider à comprendre l'erreur qui vient de se produire.\n",
    "\n",
    "Python lève donc des exceptions quand il trouve une erreur, soit dans le code (une erreur de syntaxe, par exemple), soit dans l'opération que vous lui demandez de faire."
   ]
  },
  {
   "cell_type": "code",
   "execution_count": null,
   "metadata": {},
   "outputs": [],
   "source": [
    "age = input() # On demande à l'utilisateur de saisir son age\n",
    "age = int(age) # On essaye de convertir l'année en un entier"
   ]
  },
  {
   "cell_type": "markdown",
   "metadata": {},
   "source": [
    "## Try / except\n",
    "```\n",
    "try:\n",
    "    # Bloc à essayer\n",
    "except:\n",
    "    # Bloc qui sera exécuté en cas d'erreur\n",
    "```"
   ]
  },
  {
   "cell_type": "code",
   "execution_count": 2,
   "metadata": {},
   "outputs": [
    {
     "name": "stdout",
     "output_type": "stream",
     "text": [
      "\n",
      "Erreur lors de la conversion de l'année.\n"
     ]
    }
   ],
   "source": [
    "age = input()\n",
    "try: # On essaye de convertir l'année en entier\n",
    "    age = int(age)\n",
    "except:\n",
    "    print(\"Erreur lors de la conversion de l'année.\")"
   ]
  },
  {
   "cell_type": "markdown",
   "metadata": {},
   "source": [
    "### Type d'erreur"
   ]
  },
  {
   "cell_type": "code",
   "execution_count": null,
   "metadata": {},
   "outputs": [],
   "source": [
    "try:\n",
    "    res = num / denom\n",
    "except:\n",
    "    print(\"Quelle erreur\")"
   ]
  },
  {
   "cell_type": "markdown",
   "metadata": {},
   "source": [
    "Ici, plusieurs erreurs sont susceptibles d'intervenir, chacune levant une exception différente.\n",
    "\n",
    "- NameError: l'une des variables num ou denom n'a pas été définie (elle n'existe pas). Si vous essayez dans l'interpréteur l'instruction print(numerateur)alors que vous n'avez pas défini la variablenumerateur, vous aurez la même erreur.\n",
    "\n",
    "- TypeError: l'une des variables num ou denom ne  peut diviser ou être divisée (les chaînes de caractères ne peuvent être divisées, ni diviser d'autres types, par exemple). Cette exception est levée car vous utilisez l'opérateur de division « / » sur des types qui ne savent pas quoi en faire.\n",
    "\n",
    "- ZeroDivisionError: Si denom vaut  0, cette exception sera levée.\n",
    "\n",
    "Cette énumération n'est pas une liste exhaustive de toutes les exceptions qui peuvent être levées à l'exécution de ce code. Elle est surtout là pour vous montrer que plusieurs erreurs peuvent se produire sur une instruction (c'est encore plus flagrant sur un bloc constitué de plusieurs instructions) et que la forme minimale intercepte toutes ces erreurs sans les distinguer, ce qui peut être problématique dans certains cas."
   ]
  },
  {
   "cell_type": "code",
   "execution_count": 4,
   "metadata": {},
   "outputs": [],
   "source": [
    "num = 1\n",
    "deno = 1\n",
    "try:\n",
    "    res = num / deno\n",
    "except NameError:\n",
    "    print(\"La variable numerateur ou denominateur n'a pas été définie.\")"
   ]
  },
  {
   "cell_type": "code",
   "execution_count": 7,
   "metadata": {},
   "outputs": [
    {
     "name": "stdout",
     "output_type": "stream",
     "text": [
      "La variable denominateur est égale à 0.\n"
     ]
    }
   ],
   "source": [
    "# version complète\n",
    "# tester des cas en définissant des var.\n",
    "num = 1\n",
    "denom = 0\n",
    "try:\n",
    "    res = num / denom\n",
    "except NameError:\n",
    "    print(\"La variable numerateur ou denominateur n'a pas été définie.\")\n",
    "except TypeError:\n",
    "    print(\"La variable numerateur ou denominateur possède un type incompatible avec la division.\")\n",
    "except ZeroDivisionError:\n",
    "    print(\"La variable denominateur est égale à 0.\")"
   ]
  },
  {
   "cell_type": "markdown",
   "metadata": {},
   "source": [
    "### Else et finally\n",
    "\n",
    "Else permet d'exécuter si aucune exception est levée"
   ]
  },
  {
   "cell_type": "code",
   "execution_count": null,
   "metadata": {},
   "outputs": [],
   "source": [
    "num = 1\n",
    "denom = 1\n",
    "try:\n",
    "    resultat = num / denom\n",
    "except NameError:\n",
    "    print(\"La variable numerateur ou denominateur n'a pas été définie.\")\n",
    "except TypeError:\n",
    "    print(\"La variable numerateur ou denominateur possède un type incompatible avec la division.\")\n",
    "except ZeroDivisionError:\n",
    "    print(\"La variable denominateur est égale à 0.\")\n",
    "else:\n",
    "    print(\"Le résultat obtenu est\", resultat)"
   ]
  },
  {
   "cell_type": "markdown",
   "metadata": {},
   "source": [
    "Assez peu utile, autant mettre le print dans le try\n",
    "\n",
    "**Finally** permet d'exécuter du code quelque soit le résultat du try\n",
    "\n",
    "```\n",
    "try:\n",
    "    # Test d'instruction(s)\n",
    "except type_de_l_exception:\n",
    "    # Traitement en cas d'erreur\n",
    "finally:\n",
    "    # Instruction(s) exécutée(s) qu'il y ait eu des erreurs ou non\n",
    "```"
   ]
  },
  {
   "cell_type": "code",
   "execution_count": 8,
   "metadata": {},
   "outputs": [
    {
     "name": "stdout",
     "output_type": "stream",
     "text": [
      "La variable denominateur est égale à 0.\n",
      "exécution de finally\n"
     ]
    }
   ],
   "source": [
    "try:\n",
    "    resultat = num / denom\n",
    "except NameError:\n",
    "    print(\"La variable numerateur ou denominateur n'a pas été définie.\")\n",
    "except TypeError:\n",
    "    print(\"La variable numerateur ou denominateur possède un type incompatible avec la division.\")\n",
    "except ZeroDivisionError:\n",
    "    print(\"La variable denominateur est égale à 0.\")\n",
    "    \n",
    "finally:\n",
    "    print(\"exécution de finally\")"
   ]
  },
  {
   "cell_type": "markdown",
   "metadata": {},
   "source": [
    "### Pass\n",
    "\n",
    "Utilisé au sein d'une structure d'exception, cela permet de passer continuer\n",
    "\n",
    "```\n",
    "try:\n",
    "    # Test d'instruction(s)\n",
    "except type_de_l_exception: # Rien ne doit se passer en cas d'erreur\n",
    "    pass\n",
    "```"
   ]
  },
  {
   "cell_type": "code",
   "execution_count": null,
   "metadata": {},
   "outputs": [],
   "source": [
    "denom = 0\n",
    "try:\n",
    "    resultat = num / denom\n",
    "except :\n",
    "    pass"
   ]
  },
  {
   "cell_type": "markdown",
   "metadata": {},
   "source": [
    "## Les assertions\n",
    "\n",
    "\n",
    "Les assertions sont un moyen simple de s'assurer, avant de continuer, qu'une condition est respectée. En général, on les utilise dans des **blocs try … except**.\n",
    "\n",
    "``` \n",
    "assert test\n",
    "```"
   ]
  },
  {
   "cell_type": "code",
   "execution_count": 9,
   "metadata": {},
   "outputs": [
    {
     "ename": "AssertionError",
     "evalue": "",
     "output_type": "error",
     "traceback": [
      "\u001b[0;31m---------------------------------------------------------------------------\u001b[0m",
      "\u001b[0;31mAssertionError\u001b[0m                            Traceback (most recent call last)",
      "\u001b[0;32m<ipython-input-9-3d1ccfe84f86>\u001b[0m in \u001b[0;36m<module>\u001b[0;34m\u001b[0m\n\u001b[1;32m      2\u001b[0m \u001b[0;34m\u001b[0m\u001b[0m\n\u001b[1;32m      3\u001b[0m \u001b[0;32massert\u001b[0m \u001b[0mval\u001b[0m \u001b[0;34m==\u001b[0m \u001b[0;36m10\u001b[0m\u001b[0;34m\u001b[0m\u001b[0;34m\u001b[0m\u001b[0m\n\u001b[0;32m----> 4\u001b[0;31m \u001b[0;32massert\u001b[0m \u001b[0mval\u001b[0m \u001b[0;34m==\u001b[0m \u001b[0;36m5\u001b[0m\u001b[0;34m\u001b[0m\u001b[0;34m\u001b[0m\u001b[0m\n\u001b[0m",
      "\u001b[0;31mAssertionError\u001b[0m: "
     ]
    }
   ],
   "source": [
    "val = 10\n",
    "\n",
    "assert val == 10\n",
    "assert val == 5"
   ]
  },
  {
   "cell_type": "code",
   "execution_count": 10,
   "metadata": {},
   "outputs": [
    {
     "name": "stdout",
     "output_type": "stream",
     "text": [
      "Saisissez une année supérieure à 0 :-1\n",
      "L'année saisie est inférieure ou égale à 0.\n"
     ]
    }
   ],
   "source": [
    "annee = input(\"Saisissez une année supérieure à 0 :\")\n",
    "try:\n",
    "    annee = int(annee) # Conversion de l'année\n",
    "    assert annee > 0\n",
    "except ValueError:\n",
    "    print(\"Vous n'avez pas saisi un nombre.\")\n",
    "except AssertionError:\n",
    "    print(\"L'année saisie est inférieure ou égale à 0.\")"
   ]
  },
  {
   "cell_type": "markdown",
   "metadata": {},
   "source": [
    "## Exception\n",
    "\n",
    "Utilisation de raise\n",
    "\n",
    "```raise TypeDeLException(\"message à afficher\")```"
   ]
  },
  {
   "cell_type": "code",
   "execution_count": 11,
   "metadata": {},
   "outputs": [
    {
     "ename": "ValueError",
     "evalue": "message à afficher",
     "output_type": "error",
     "traceback": [
      "\u001b[0;31m---------------------------------------------------------------------------\u001b[0m",
      "\u001b[0;31mValueError\u001b[0m                                Traceback (most recent call last)",
      "\u001b[0;32m<ipython-input-11-0cde1397c3a6>\u001b[0m in \u001b[0;36m<module>\u001b[0;34m\u001b[0m\n\u001b[0;32m----> 1\u001b[0;31m \u001b[0;32mraise\u001b[0m \u001b[0mValueError\u001b[0m\u001b[0;34m(\u001b[0m\u001b[0;34m\"message à afficher\"\u001b[0m\u001b[0;34m)\u001b[0m\u001b[0;34m\u001b[0m\u001b[0;34m\u001b[0m\u001b[0m\n\u001b[0m",
      "\u001b[0;31mValueError\u001b[0m: message à afficher"
     ]
    }
   ],
   "source": [
    "raise ValueError(\"message à afficher\")"
   ]
  },
  {
   "cell_type": "code",
   "execution_count": 12,
   "metadata": {},
   "outputs": [
    {
     "name": "stdout",
     "output_type": "stream",
     "text": [
      "-1\n",
      "La valeur saisie est invalide (l'année est peut-être négative).\n"
     ]
    }
   ],
   "source": [
    "aannee = input() # L'utilisateur saisit l'année\n",
    "try:\n",
    "    annee = int(annee) # On tente de convertir l'année\n",
    "    if annee<=0:\n",
    "        raise ValueError(\"l'année saisie est négative ou nulle\")\n",
    "except ValueError:\n",
    "    print(\"La valeur saisie est invalide (l'année est peut-être négative).\")\n",
    "    "
   ]
  },
  {
   "cell_type": "markdown",
   "metadata": {},
   "source": [
    "# Création d'exceptions personnalisées\n",
    "\n",
    "\n"
   ]
  },
  {
   "cell_type": "code",
   "execution_count": 13,
   "metadata": {},
   "outputs": [
    {
     "ename": "MonException",
     "evalue": "On a cassé le système",
     "output_type": "error",
     "traceback": [
      "\u001b[0;31m---------------------------------------------------------------------------\u001b[0m",
      "\u001b[0;31mMonException\u001b[0m                              Traceback (most recent call last)",
      "\u001b[0;32m<ipython-input-13-928fc1a1bb91>\u001b[0m in \u001b[0;36m<module>\u001b[0;34m\u001b[0m\n\u001b[1;32m      8\u001b[0m         \u001b[0;32mreturn\u001b[0m \u001b[0mself\u001b[0m\u001b[0;34m.\u001b[0m\u001b[0mmessage\u001b[0m\u001b[0;34m\u001b[0m\u001b[0;34m\u001b[0m\u001b[0m\n\u001b[1;32m      9\u001b[0m \u001b[0;34m\u001b[0m\u001b[0m\n\u001b[0;32m---> 10\u001b[0;31m \u001b[0;32mraise\u001b[0m \u001b[0mMonException\u001b[0m\u001b[0;34m(\u001b[0m\u001b[0;34m\"On a cassé le système\"\u001b[0m\u001b[0;34m)\u001b[0m\u001b[0;34m\u001b[0m\u001b[0;34m\u001b[0m\u001b[0m\n\u001b[0m",
      "\u001b[0;31mMonException\u001b[0m: On a cassé le système"
     ]
    }
   ],
   "source": [
    "class MonException(Exception):\n",
    "    \"\"\"Exception levée dans un certain contexte… qui reste à définir\"\"\"\n",
    "    def __init__(self, message):\n",
    "        \"\"\"On se contente de stocker le message d'erreur\"\"\"\n",
    "        self.message = message\n",
    "    def __str__(self):\n",
    "        \"\"\"On renvoie le message\"\"\"\n",
    "        return self.message\n",
    "    \n",
    "raise MonException(\"On a cassé le système\")"
   ]
  },
  {
   "cell_type": "markdown",
   "metadata": {},
   "source": [
    "Avec plusieurs paramètres"
   ]
  },
  {
   "cell_type": "code",
   "execution_count": 14,
   "metadata": {},
   "outputs": [
    {
     "ename": "ErreurAnalyseFichier",
     "evalue": "[nomfichier.txt:34]: Mince",
     "output_type": "error",
     "traceback": [
      "\u001b[0;31m---------------------------------------------------------------------------\u001b[0m",
      "\u001b[0;31mErreurAnalyseFichier\u001b[0m                      Traceback (most recent call last)",
      "\u001b[0;32m<ipython-input-14-59b4f89154f3>\u001b[0m in \u001b[0;36m<module>\u001b[0;34m\u001b[0m\n\u001b[1;32m     18\u001b[0m                 self.message)\n\u001b[1;32m     19\u001b[0m \u001b[0;34m\u001b[0m\u001b[0m\n\u001b[0;32m---> 20\u001b[0;31m \u001b[0;32mraise\u001b[0m \u001b[0mErreurAnalyseFichier\u001b[0m\u001b[0;34m(\u001b[0m\u001b[0;34m\"nomfichier.txt\"\u001b[0m\u001b[0;34m,\u001b[0m \u001b[0;36m34\u001b[0m\u001b[0;34m,\u001b[0m \u001b[0;34m\"Mince\"\u001b[0m\u001b[0;34m)\u001b[0m\u001b[0;34m\u001b[0m\u001b[0;34m\u001b[0m\u001b[0m\n\u001b[0m",
      "\u001b[0;31mErreurAnalyseFichier\u001b[0m: [nomfichier.txt:34]: Mince"
     ]
    }
   ],
   "source": [
    "class ErreurAnalyseFichier(Exception):\n",
    "    \"\"\"Cette exception est levée quand un fichier (de configuration)\n",
    "    n'a pas pu être analysé.\n",
    "    \n",
    "    Attributs :\n",
    "        fichier -- le nom du fichier posant problème\n",
    "        ligne -- le numéro de la ligne posant problème\n",
    "        message -- le problème proprement dit\"\"\"\n",
    "    \n",
    "    def __init__(self, fichier, ligne, message):\n",
    "        \"\"\"Constructeur de notre exception\"\"\"\n",
    "        self.fichier = fichier\n",
    "        self.ligne = ligne\n",
    "        self.message = message\n",
    "    def __str__(self):\n",
    "        \"\"\"Affichage de l'exception\"\"\"\n",
    "        return \"[{}:{}]: {}\".format(self.fichier, self.ligne, \\\n",
    "                self.message)\n",
    "\n",
    "raise ErreurAnalyseFichier(\"nomfichier.txt\", 34, \"Mince\")"
   ]
  },
  {
   "cell_type": "markdown",
   "metadata": {},
   "source": [
    "## TP \n",
    "\n",
    "Ajouter la gestion des erreurs dans l'exercice de lecture et tri des données du Titanic "
   ]
  },
  {
   "cell_type": "markdown",
   "metadata": {},
   "source": [
    "# Lecture et écriture dans les fichiers\n",
    "\n",
    "```\n",
    "<mon_fichier> = open(<nom_fichier_a_ouvrir>,<mode>\n",
    "```\n",
    "\n",
    "Les modes précisés par <mode>, peuvent être :\n",
    "- w ouverture en mode écriture\n",
    "- r ouverture en mode lecture\n",
    "- a ajout des données en fin de fichier quand le fichier est ouvert en mode écriture\n",
    "- b pour préciser que le fichier manipulé est un fichier binaire.\n",
    "    \n",
    "```\n",
    "<mon_fichier>.close()\n",
    "```\n",
    "\n",
    "\n",
    "\n",
    "Utilisation du with pour gérer les exceptions :\n",
    "```\n",
    "with open(<nom_fichier_a_ouvrir>,<mode> as <mon_fichier> :\n",
    "\t<instruction 1>\n",
    "\t<instruction 2>\n",
    "\t…\n",
    "\t<instruction n>\n",
    "    \n",
    "```"
   ]
  },
  {
   "cell_type": "code",
   "execution_count": 4,
   "metadata": {},
   "outputs": [
    {
     "name": "stdout",
     "output_type": "stream",
     "text": [
      "ouverture et création fichier OK!\n"
     ]
    }
   ],
   "source": [
    "with open('test_ouverture_fermeture.txt', 'w') as mon_fichier:\n",
    "    print('ouverture et création fichier OK!')\n",
    "    mon_fichier.close()"
   ]
  },
  {
   "cell_type": "markdown",
   "metadata": {},
   "source": [
    "## Écriture dans le fichier"
   ]
  },
  {
   "cell_type": "code",
   "execution_count": 7,
   "metadata": {
    "scrolled": true
   },
   "outputs": [
    {
     "name": "stdout",
     "output_type": "stream",
     "text": [
      "ouverture et création fichier OK!\n",
      "Écriture dans le fichier de la chaîne :  Senatus populusque romanus\n"
     ]
    }
   ],
   "source": [
    "with open('test_ecriture.txt', 'w') as mon_fichier:\n",
    "    print('ouverture et création fichier OK!')\n",
    "    chaine_ecrire = \"Senatus populusque romanus\"\n",
    "    mon_fichier.write(chaine_ecrire)\n",
    "    mon_fichier.write(chaine_ecrire)\n",
    "    print(\"Écriture dans le fichier de la chaîne : \", chaine_ecrire)\n",
    "    mon_fichier.close()"
   ]
  },
  {
   "cell_type": "markdown",
   "metadata": {},
   "source": [
    "## Écritrue de valeur numérique"
   ]
  },
  {
   "cell_type": "code",
   "execution_count": 11,
   "metadata": {},
   "outputs": [
    {
     "name": "stdout",
     "output_type": "stream",
     "text": [
      "ouverture et création fichier OK!\n",
      "Écriture dans le fichier de la chaîne :  Senatus populusque romanus\n",
      "\n",
      "Valeur numérique ajoutée au fichier : 87\n",
      "Valeur numérique ajoutée au fichier : 94\n",
      "Valeur numérique ajoutée au fichier : 85\n",
      "Valeur numérique ajoutée au fichier : 33\n",
      "Valeur numérique ajoutée au fichier : 32\n",
      "Valeur numérique ajoutée au fichier : 56\n",
      "Valeur numérique ajoutée au fichier : 30\n",
      "Valeur numérique ajoutée au fichier : 6\n",
      "Valeur numérique ajoutée au fichier : 92\n",
      "Valeur numérique ajoutée au fichier : 84\n"
     ]
    }
   ],
   "source": [
    "from random import randint\n",
    "\n",
    "with open('test_ecriture.txt', 'w') as mon_fichier:\n",
    "    print('ouverture et création fichier OK!')\n",
    "    chaine_ecrire = \"Senatus populusque romanus\\n\"\n",
    "    mon_fichier.write(chaine_ecrire)\n",
    "    print(\"Écriture dans le fichier de la chaîne : \", chaine_ecrire)\n",
    "\n",
    "    for i in range(10):\n",
    "        val = randint(0, 100)\n",
    "        mon_fichier.write(str(val)+'\\n')\n",
    "        print(\"Valeur numérique ajoutée au fichier : \" + str(val))\n",
    "    mon_fichier.close()"
   ]
  },
  {
   "cell_type": "markdown",
   "metadata": {},
   "source": [
    "## Lecture du fichier\n",
    "\n"
   ]
  },
  {
   "cell_type": "code",
   "execution_count": 13,
   "metadata": {
    "scrolled": true
   },
   "outputs": [
    {
     "name": "stdout",
     "output_type": "stream",
     "text": [
      "ouverture fichier OK!\n",
      "Chaîne lue :  Senatus populusque romanus\n",
      "\n",
      "Entier lu :  87\n",
      "Entier lu :  94\n",
      "Entier lu :  85\n",
      "Entier lu :  33\n",
      "Entier lu :  32\n",
      "Entier lu :  56\n",
      "Entier lu :  30\n",
      "Entier lu :  6\n",
      "Entier lu :  92\n",
      "Entier lu :  84\n"
     ]
    }
   ],
   "source": [
    "with open('test_ecriture.txt', 'r') as mon_fichier:\n",
    "    print('ouverture fichier OK!')\n",
    "    chaine_lue = mon_fichier.readline()\n",
    "    print(\"Chaîne lue : \", chaine_lue)\n",
    "\n",
    "    while True:\n",
    "        val_str = mon_fichier.readline()\n",
    "        if not val_str:\n",
    "            break\n",
    "        val_int = int(val_str)\n",
    "\n",
    "        print(\"Entier lu : \", str(val_int))\n",
    "    mon_fichier.close()"
   ]
  },
  {
   "cell_type": "markdown",
   "metadata": {},
   "source": [
    "## Cas des fichiers binaires\n",
    "\n",
    "### Écriture\n"
   ]
  },
  {
   "cell_type": "code",
   "execution_count": 15,
   "metadata": {},
   "outputs": [
    {
     "name": "stdout",
     "output_type": "stream",
     "text": [
      "ouverture et création fichier en mode binaire :  OK!\n",
      "Valeur numérique ajoutée au fichier : 37\n",
      "Valeur numérique ajoutée au fichier : 30\n",
      "Valeur numérique ajoutée au fichier : 24\n",
      "Valeur numérique ajoutée au fichier : 71\n",
      "Valeur numérique ajoutée au fichier : 48\n",
      "Valeur numérique ajoutée au fichier : 92\n",
      "Valeur numérique ajoutée au fichier : 17\n",
      "Valeur numérique ajoutée au fichier : 31\n",
      "Valeur numérique ajoutée au fichier : 1\n",
      "Valeur numérique ajoutée au fichier : 36\n"
     ]
    }
   ],
   "source": [
    "from struct import pack\n",
    "from struct import unpack\n",
    "from random import randint\n",
    "\n",
    "with open('test_ecriture.bin', 'wb') as mon_fichier:\n",
    "    print('ouverture et création fichier en mode binaire :  OK!')\n",
    "    \n",
    "    for i in range(10):\n",
    "        val = randint(0, 100)\n",
    "        mon_fichier.write(pack(\">I\", val))\n",
    "        print(\"Valeur numérique ajoutée au fichier : \" + str(val))"
   ]
  },
  {
   "cell_type": "markdown",
   "metadata": {},
   "source": [
    "### Lecture"
   ]
  },
  {
   "cell_type": "code",
   "execution_count": 16,
   "metadata": {},
   "outputs": [
    {
     "name": "stdout",
     "output_type": "stream",
     "text": [
      "ouverture fichier en mode binaire :  OK!\n",
      "Valeur numérique ajoutée au fichier : 37\n",
      "Valeur numérique ajoutée au fichier : 30\n",
      "Valeur numérique ajoutée au fichier : 24\n",
      "Valeur numérique ajoutée au fichier : 71\n",
      "Valeur numérique ajoutée au fichier : 48\n",
      "Valeur numérique ajoutée au fichier : 92\n",
      "Valeur numérique ajoutée au fichier : 17\n",
      "Valeur numérique ajoutée au fichier : 31\n",
      "Valeur numérique ajoutée au fichier : 1\n",
      "Valeur numérique ajoutée au fichier : 36\n"
     ]
    }
   ],
   "source": [
    "with open('test_ecriture.bin', 'rb') as mon_fichier:\n",
    "    print('ouverture fichier en mode binaire :  OK!')\n",
    "    for i in range(10):\n",
    "        val = mon_fichier.read(4)\n",
    "        val_int = unpack(\">i\", val)\n",
    "        print(\"Valeur numérique ajoutée au fichier : \" + str(val_int[0]))"
   ]
  },
  {
   "cell_type": "markdown",
   "metadata": {},
   "source": [
    "# Programmation système\n",
    "\n",
    "\n",
    "## Récupérer les arguments "
   ]
  },
  {
   "cell_type": "code",
   "execution_count": null,
   "metadata": {},
   "outputs": [],
   "source": [
    "import sys\n",
    "\n",
    "print(\"Le premier est argument est le nom du script: {}\".format(sys.argv[0]))\n",
    "print(\"Le nombre d'argument est: {}\".format(len(sys.argv)))\n",
    "print(\"Et ces arguments sont: {}\".format(str(sys.argv)))"
   ]
  },
  {
   "cell_type": "code",
   "execution_count": null,
   "metadata": {},
   "outputs": [],
   "source": [
    "import sys\n",
    "\n",
    "\n",
    "def f_cas_1():\n",
    "    print(\"Cas 1\\n\")\n",
    "\n",
    "\n",
    "def f_cas_2():\n",
    "    print(\"Cas 2\\n\")\n",
    "\n",
    "\n",
    "def f_cas_3():\n",
    "    print(\"Cas 3\\n\")\n",
    "\n",
    "\n",
    "def f_cas_4():\n",
    "    print(\"Cas 4\\n\")\n",
    "\n",
    "\n",
    "def f_cas_s(chaine):\n",
    "    print(\"Argument : \", chaine, \" non reconnu \\n\")\n",
    "\n",
    "\n",
    "def f_exit():\n",
    "    sys.exit(1)\n",
    "\n",
    "\n",
    "if len(sys.argv) < 2:\n",
    "    print(\"aucune valeur passé en argument\")\n",
    "    f_exit()\n",
    "\n",
    "val = sys.argv[1]\n",
    "\n",
    "if int(val) == 1:\n",
    "    f_cas_1()\n",
    "\n",
    "elif int(val) == 2:\n",
    "    f_cas_2()\n",
    "\n",
    "elif int(val) == 3:\n",
    "    f_cas_3()\n",
    "\n",
    "elif int(val) == 4:\n",
    "    f_cas_4()\n",
    "\n",
    "else:\n",
    "    f_cas_s()\n",
    "    f_exit()"
   ]
  },
  {
   "cell_type": "markdown",
   "metadata": {},
   "source": [
    "## Interception de signal"
   ]
  },
  {
   "cell_type": "code",
   "execution_count": null,
   "metadata": {},
   "outputs": [],
   "source": [
    "import sys\n",
    "import signal\n",
    "import time\n",
    "\n",
    "\n",
    "def reaction_intercept(signal, frame):\n",
    "    print(\"Message intercepté \\n\")\n",
    "    print(\"Le script sera fermé dans 5 sec\\n\")\n",
    "    time.sleep(5)\n",
    "    print(\"Fermeture\")\n",
    "    sys.exit(0)\n",
    "\n",
    "\n",
    "# signal.signal(signal.SIGINT, reaction_intercept)\n",
    "\n",
    "\n",
    "print(\"Le programme tourne en boucle en attendant la fermeture\")\n",
    "while True:\n",
    "    continue"
   ]
  },
  {
   "cell_type": "markdown",
   "metadata": {},
   "source": [
    "## Client - serveur socket\n",
    "### Client\n"
   ]
  },
  {
   "cell_type": "code",
   "execution_count": null,
   "metadata": {},
   "outputs": [],
   "source": [
    "import socket as skt\n",
    "\n",
    "\n",
    "s_client = skt.socket(skt.AF_INET, skt.SOCK_STREAM)\n",
    "print(\"creation de la socket\")\n",
    "s_client.connect(('localhost', 12088))\n",
    "print(\"connecté au serveur\")\n",
    "\n",
    "message_clavier = b\"\"\n",
    "count = 0\n",
    "while count < 5:\n",
    "    message_clavier = input()\n",
    "    message_clavier = message_clavier.encode()\n",
    "    s_client.send(message_clavier)\n",
    "    count += 1\n",
    "    print(\"Nombre message envoyé : \", count)\n",
    "\n",
    "\n",
    "s_client.close()"
   ]
  },
  {
   "cell_type": "markdown",
   "metadata": {},
   "source": [
    "### Serveur\n",
    "\n",
    "\n"
   ]
  },
  {
   "cell_type": "code",
   "execution_count": null,
   "metadata": {},
   "outputs": [],
   "source": [
    "import socket as skt\n",
    "\n",
    "\n",
    "s_connexion = skt.socket(skt.AF_INET, skt.SOCK_STREAM)\n",
    "print(\"Creation soket\")\n",
    "s_connexion.bind(('', 12088))\n",
    "print(\"connection du serveur\")\n",
    "s_connexion.listen(3)\n",
    "lien_client, info_lien = s_connexion.accept()\n",
    "print(\"serveur disponible\")\n",
    "\n",
    "message_client = b\"\"\n",
    "count = 0\n",
    "\n",
    "while count < 5:\n",
    "    message_client = lien_client.recv(1024).decode()\n",
    "    print(message_client)\n",
    "    count += 1\n",
    "\n",
    "print(\"Fermeture du serveur\")\n",
    "s_connexion.close()\n",
    "lien_client.close()"
   ]
  },
  {
   "cell_type": "markdown",
   "metadata": {},
   "source": [
    "## Traitement parallèle de lots de données\n"
   ]
  },
  {
   "cell_type": "code",
   "execution_count": null,
   "metadata": {},
   "outputs": [],
   "source": [
    "import random\n",
    "import string\n",
    "\n",
    "from joblib import Parallel, delayed\n",
    "\n",
    "random.seed(123)\n",
    "\n",
    "\n",
    "def chaine_aleatoire(taille):\n",
    "    rand_str = ''.join(random.choice(\n",
    "        string.ascii_lowercase +\n",
    "        string.ascii_uppercase +\n",
    "        string.digits)\n",
    "                       for i in range(taille))\n",
    "    return rand_str\n",
    "\n",
    "\n",
    "res = Parallel(n_jobs=4)(delayed(chaine_aleatoire)(5)\n",
    "                             for _ in range(100))\n",
    "\n",
    "print(res)"
   ]
  },
  {
   "cell_type": "markdown",
   "metadata": {},
   "source": [
    "## Éxecution d'instructions système\n"
   ]
  },
  {
   "cell_type": "code",
   "execution_count": null,
   "metadata": {},
   "outputs": [],
   "source": [
    "import os\n",
    "\n",
    "\n",
    "if __name__ == '__main__':\n",
    "\n",
    "    commande = \"ls -la\"\n",
    "    res_commande = os.popen(commande)\n",
    "    print(\"Résultats retournés par la commande : \", commande)\n",
    "    print(res_commande.read())"
   ]
  },
  {
   "cell_type": "code",
   "execution_count": null,
   "metadata": {},
   "outputs": [],
   "source": [
    "import os\n",
    "\n",
    "\n",
    "for dirpath, dirnames, filenames in os.walk(os.curdir):\n",
    "    for fp in filenames:\n",
    "        print(os.path.abspath(fp))\n",
    "        "
   ]
  },
  {
   "cell_type": "markdown",
   "metadata": {},
   "source": [
    "# TP \n",
    "\n",
    "- Export des données triées dant un fichier txt + infos sur la dernière lecture contenus dans les attributs de votre classe\n",
    "- Export de l'histogramme dans un fichier supplémentarire"
   ]
  },
  {
   "cell_type": "markdown",
   "metadata": {},
   "source": [
    "# Asyncio\n",
    "\n"
   ]
  },
  {
   "cell_type": "code",
   "execution_count": null,
   "metadata": {},
   "outputs": [],
   "source": [
    "import asyncio\n",
    "import random\n",
    "import time\n",
    "from concurrent.futures import ProcessPoolExecutor\n",
    "\n",
    "\n",
    "def simulator_submission():\n",
    "    \"\"\"Give ``None`` or a submission id.\"\"\"\n",
    "    return random.choice([random.randint(0, 1000), None])\n",
    "\n",
    "\n",
    "async def launch_submission(submission_queue, process_queue):\n",
    "    while True:\n",
    "        # to be replaced by the database query\n",
    "        generated_submission = simulator_submission()\n",
    "        await submission_queue.put(generated_submission)\n",
    "        # No need to wait, we surely have an item at least: None or the\n",
    "        # submission id.\n",
    "        submission_id = submission_queue.get_nowait()\n",
    "        if submission_id is None:\n",
    "            await asyncio.sleep(0)\n",
    "            continue\n",
    "        print(f'launch the training of the submission {submission_id}')\n",
    "        proc = await asyncio.subprocess.create_subprocess_shell(\n",
    "            'ssh glemaitre@anakim.u-bourgogne.fr \"sleep {}\"'\n",
    "            .format(random.randint(0, 3)),\n",
    "            stdout=asyncio.subprocess.PIPE,\n",
    "            stderr=asyncio.subprocess.STDOUT\n",
    "            )\n",
    "        await process_queue.put(proc)\n",
    "        print(f'Queuing the process {proc}')\n",
    "\n",
    "\n",
    "async def collect_result(submission_queue, process_queue):\n",
    "    while True:\n",
    "        proc = await process_queue.get()\n",
    "        if proc.returncode is None:\n",
    "            # await process_queue.put(proc) lock proc.returncode to change\n",
    "            # status.\n",
    "            process_queue.put_nowait(proc)\n",
    "            await asyncio.sleep(0)\n",
    "        else:\n",
    "            print(f'collect the log of the submission {proc}')\n",
    "            await proc.communicate()\n",
    "            # just to simulate different time processing of collection.\n",
    "            await asyncio.sleep(random.randint(0, 3))\n",
    "\n",
    "\n",
    "if __name__ == \"__main__\":\n",
    "    loop = asyncio.get_event_loop()\n",
    "\n",
    "    submission_queue = asyncio.LifoQueue(loop=loop, maxsize=5)\n",
    "    process_queue = asyncio.LifoQueue(loop=loop, maxsize=5)\n",
    "\n",
    "    launcher = launch_submission(submission_queue, process_queue)\n",
    "    collecter = collect_result(submission_queue, process_queue)\n",
    "\n",
    "    loop.run_until_complete(asyncio.gather(launcher, collecter))\n",
    "print('loop completed')"
   ]
  },
  {
   "cell_type": "code",
   "execution_count": null,
   "metadata": {},
   "outputs": [],
   "source": [
    "import asyncio\n",
    "import random\n",
    "\n",
    "\n",
    "async def produce(queue, n):\n",
    "    for x in range(1, n + 1):\n",
    "        # produce an item\n",
    "        print('producing {}/{}'.format(x, n))\n",
    "        # simulate i/o operation using sleep\n",
    "        await asyncio.sleep(random.random())\n",
    "        item = str(x)\n",
    "        # put the item in the queue\n",
    "        await queue.put(item)\n",
    "\n",
    "    # indicate the producer is done\n",
    "    await queue.put(None)\n",
    "\n",
    "\n",
    "async def consume(queue):\n",
    "    while True:\n",
    "        # whttp://localhost:8888/notebooks/exception-sys-fichier-asyncio.ipynb#ait for an item from the producer\n",
    "        item = await queue.get()\n",
    "        if item is None:\n",
    "            # the producer emits None to indicate that it is done\n",
    "            break\n",
    "\n",
    "        # process the item\n",
    "        print('consuming item {}...'.format(item))\n",
    "        # simulate i/o operation using sleep\n",
    "        await asyncio.sleep(random.random())\n",
    "\n",
    "\n",
    "loop = asyncio.get_event_loop()\n",
    "queue = asyncio.Queue(loop=loop)\n",
    "producer_coro = produce(queue, 10)\n",
    "consumer_coro = consume(queue)\n",
    "loop.run_until_complete(asyncio.gather(producer_coro, consumer_coro))\n",
    "loop.close()"
   ]
  },
  {
   "cell_type": "markdown",
   "metadata": {},
   "source": [
    "# Décorateurs\n",
    "\n",
    "```\n",
    "@nom_du_decorateur\n",
    "def ma_fonction(...)\n",
    "```"
   ]
  },
  {
   "cell_type": "code",
   "execution_count": null,
   "metadata": {},
   "outputs": [],
   "source": [
    "def mon_decorateur(fonction):\n",
    "    \"\"\"Notre décorateur : il va afficher un message avant l'appel de la\n",
    "    fonction définie\"\"\"\n",
    "    \n",
    "    def fonction_modifiee():\n",
    "        \"\"\"Fonction que l'on va renvoyer. Il s'agit en fait d'une version\n",
    "        un peu modifiée de notre fonction originellement définie. On se\n",
    "        contente d'afficher un avertissement avant d'exécuter notre fonction\n",
    "        originellement définie\"\"\"\n",
    "        \n",
    "        print(\"Attention ! On appelle {0}\".format(fonction))\n",
    "        return fonction()\n",
    "    return fonction_modifiee\n",
    "\n",
    "@mon_decorateur\n",
    "def salut():\n",
    "    print(\"Salut !\")\n",
    "    \n",
    "salut()"
   ]
  },
  {
   "cell_type": "code",
   "execution_count": 3,
   "metadata": {},
   "outputs": [],
   "source": []
  }
 ],
 "metadata": {
  "kernelspec": {
   "display_name": "Python 3",
   "language": "python",
   "name": "python3"
  },
  "language_info": {
   "codemirror_mode": {
    "name": "ipython",
    "version": 3
   },
   "file_extension": ".py",
   "mimetype": "text/x-python",
   "name": "python",
   "nbconvert_exporter": "python",
   "pygments_lexer": "ipython3",
   "version": "3.6.8"
  }
 },
 "nbformat": 4,
 "nbformat_minor": 2
}
